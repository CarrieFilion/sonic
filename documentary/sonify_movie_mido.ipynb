{
 "cells": [
  {
   "cell_type": "code",
   "execution_count": 1,
   "id": "d5551354-5275-4b7b-bd52-40a6ee2843c4",
   "metadata": {},
   "outputs": [],
   "source": [
    "import time\n",
    "import fluidsynth\n",
    "import numpy as np\n",
    "import glob"
   ]
  },
  {
   "cell_type": "code",
   "execution_count": 3,
   "id": "c2fb520e-4f9a-4af1-be1a-86ac6c1f0f76",
   "metadata": {},
   "outputs": [],
   "source": [
    "#### code from mike to do this in mido + pyfluidsynth\n",
    "def mike_remapcoefficients(laguerre,minlog=0.,maxlog=4.):\n",
    "    logcoefamplitudes = np.log10(np.abs(laguerre.coscoefs.T**2+laguerre.sincoefs.T**2))\n",
    "    # override the max\n",
    "    maxlog = np.nanmax(logcoefamplitudes)\n",
    "    logcoefamplitudes = (logcoefamplitudes-minlog)/(maxlog-minlog)*127.\n",
    "    logcoefamplitudes[logcoefamplitudes<0]=0\n",
    "    return logcoefamplitudes\n",
    "\n",
    "\n",
    "# major scale\n",
    "scale_notes = np.array([60,62,64,65,67,69,71,72])\n",
    "\n",
    "\n",
    "def make_note_list(logcoefamplitudes,scale_notes,octaveshift=True):\n",
    "\n",
    "    notes = []\n",
    "    for harmonic in range(0,5):\n",
    "        if octaveshift:\n",
    "            use_notes = scale_notes + (harmonic-1)*12\n",
    "        else:\n",
    "            use_notes = scale_notes\n",
    "        newnote = [use_notes[x] for x in range(0,len(use_notes))]\n",
    "        newnote = [(note,logcoefamplitudes[i, harmonic]) for i, note in enumerate(newnote) if logcoefamplitudes[i, harmonic] > 0]\n",
    "        for note in newnote:\n",
    "            notes.append(note)\n",
    "\n",
    "    return notes\n",
    "\n",
    "def add_rolled_chord(track, notes, duration, velocity=64):\n",
    "    roll_spacing = 30  # in MIDI ticks (adjust for speed of roll)\n",
    "    for i,note in enumerate(notes):\n",
    "        track.append(Message('note_on', note=note[0], velocity=velocity, time=0 if i == 0 else roll_spacing))\n",
    "    track.append(Message('note_off', note=notes[0][0], velocity=velocity, time=duration * 480))\n",
    "    for note in notes[1:]:\n",
    "        track.append(Message('note_off', note=note[0], velocity=velocity, time=0))\n",
    "\n",
    "def add_rolled_chord_velocity(track, notes, duration):\n",
    "    roll_spacing = 30  # in MIDI ticks (adjust for speed of roll)\n",
    "    for i,note in enumerate(notes):\n",
    "        track.append(Message('note_on', note=note[0], velocity=note[1], time=0 if i == 0 else roll_spacing))\n",
    "    track.append(Message('note_off', note=notes[0][0], velocity=notes[0][1], time=duration * 480))\n",
    "    for note in notes[1:]:\n",
    "        track.append(Message('note_off', note=note[0], velocity=note[1], time=0))\n",
    "\n",
    "\n",
    "def add_chord(track, notes, duration, velocity=64):\n",
    "    for note in notes:\n",
    "        track.append(Message('note_on', note=note[0], velocity=velocity, time=0))\n",
    "    track.append(Message('note_off', note=notes[0][0], velocity=velocity, time=duration * 480))\n",
    "    for note in notes[1:]:\n",
    "        track.append(Message('note_off', note=note[0], velocity=velocity, time=0))\n",
    "\n",
    "def make_midi_chords(lagcoefamplitudes,scale_notes,outputfile,octaveshift=False):\n",
    "\n",
    "    # Create a new MIDI file and track\n",
    "    mid = MidiFile()\n",
    "    track = MidiTrack()\n",
    "    mid.tracks.append(track)\n",
    "\n",
    "    # Set the tempo (optional, here 120 BPM)\n",
    "    tempo = mido.bpm2tempo(120)\n",
    "    track.append(mido.MetaMessage('set_tempo', tempo=tempo))\n",
    "\n",
    "    # Insert program change at the beginning of the track\n",
    "    program_change = mido.Message('program_change', program=4, time=0)  # Electric Piano 1\n",
    "    track.insert(0, program_change)\n",
    "\n",
    "    notes = make_note_list(logcoefamplitudes,scale_notes,octaveshift=octaveshift)\n",
    "\n",
    "    #add_chord(track, notes, 4)\n",
    "    add_rolled_chord(track, notes, 6)\n",
    "\n",
    "        # Add a small gap before the next chord\n",
    "        #track.append(Message('note_off', note=0, time=480))  # 240 ticks (half a beat)\n",
    "\n",
    "    # Save the MIDI file\n",
    "    mid.save(outputfile)"
   ]
  },
  {
   "cell_type": "code",
   "execution_count": 456,
   "id": "807fc36e-da98-43bb-9826-4dc79d4f751c",
   "metadata": {},
   "outputs": [],
   "source": [
    "def mod_map_to_sounds_octave_ampcutoff(cos_cos, sin_cos):\n",
    "    note_list = np.array(['D#','A#','F','C','G', 'D', 'A', 'E','B','F#','C#','G#'])\n",
    "    #np.array(['C', 'C#', 'D', 'D#', 'E', 'F', 'F#', 'G', 'G#', 'A', 'A#', 'B']) \n",
    "    mmax = cos_cos.shape[0]\n",
    "    nmax = cos_cos.shape[1]\n",
    "\n",
    "    modulus = np.sqrt(cos_cos**2 + sin_cos**2)\n",
    "    \n",
    "    abs_max = np.max(modulus)\n",
    "    note_dict = {}\n",
    "    \n",
    "    for m in range(mmax):\n",
    "        octave = m + 1 #hmm. need to bump from m = 0 as lowest to m = 1 bc m = 0 doesn't have all notes (?)\n",
    "        for n in range(nmax):\n",
    "            amp = modulus[m,n]\n",
    "            if abs(amp) >= 0.01*abs_max: #will only play terms with amplitude at least 1% of max\n",
    "                note = note_list[n] + str(octave)\n",
    "                note_dict[note] = abs(amp)\n",
    "\n",
    "    print('returning full set of notes')\n",
    "    return note_dict"
   ]
  },
  {
   "cell_type": "code",
   "execution_count": 457,
   "id": "82c84095-c4df-4ce1-a7c5-8aba1fe7de42",
   "metadata": {},
   "outputs": [
    {
     "data": {
      "text/plain": [
       "0.19936708860759494"
      ]
     },
     "execution_count": 457,
     "metadata": {},
     "output_type": "execute_result"
    }
   ],
   "source": [
    "redo\n",
    "len(np.unique(name_list)), len(name_list)\n",
    "63/(316)"
   ]
  },
  {
   "cell_type": "code",
   "execution_count": 458,
   "id": "0762474d-8ff0-4738-84cc-2e4321ec930b",
   "metadata": {},
   "outputs": [],
   "source": [
    "redo = np.array([775, 780, 910, 915, 920, 925, 930, 935, 940, 945, 950, 955, 960, 965, 970, 975, 980, 985, 990, 1015, 1020,\n",
    "        1025, 1030, 1035, 1040, 1045, 1050, 1055, 1060, 1065, 1070, 1075, 1080, 1085, 1095, 1105, 1115, 1125, 1135, 1145, 1150, \n",
    "        1155, 1160, 1165, 1170, 1175, 1180, 1185, 1195, 1205, 1215, 1220, 1225, 1230]) + 500\n",
    "#trimmed to 1575 snapshots\n",
    "redo_early = np.arange(0,501)\n",
    "more_redo_earlier = np.arange(665, 751) #also wanna redo a bit earlier\n",
    "more_redo = np.arange(1025, 1081) #also wanna redo a bit earlier\n",
    "\n",
    "coefs = np.load('coefficients_json_3.npy', allow_pickle=True).item()\n",
    "coefs_late = np.load('coefficients_json_3_redux.npy', allow_pickle=True).item()\n",
    "coefs_early = np.load('coefficients_json_3_redux_early.npy', allow_pickle=True).item()\n",
    "coefs_early_2 = np.load('coefficients_json_3_redux_earlier_more.npy', allow_pickle=True).item() ### check\n",
    "coefs_late_2 = np.load('coefficients_json_3_redux_later_more.npy', allow_pickle=True).item()\n",
    "snaps = np.sort(glob.glob('json_plots/json_plots/*.png'))\n",
    "name_list = []\n",
    "coef_list_loc = np.array([])\n",
    "i = -1\n",
    "for snap in snaps: #read in coefs\n",
    "    i += 1\n",
    "    name = ((snap.split('json_plots/json_plots/')[1]).split('.png')[0])\n",
    "    if i <= 1575:\n",
    "        if i % 5 == 0:\n",
    "            #print(name)\n",
    "            name_list.append(name)\n",
    "            if i in redo_early:\n",
    "                #print('i in early', i)\n",
    "                coef_list_loc = np.append(coef_list_loc, 1)\n",
    "            elif i in redo:\n",
    "                #print('i in redo', i)\n",
    "                coef_list_loc = np.append(coef_list_loc, 2)\n",
    "            elif i in more_redo:\n",
    "                coef_list_loc = np.append(coef_list_loc, 4)\n",
    "            elif i in more_redo_earlier:\n",
    "                coef_list_loc = np.append(coef_list_loc, 5)\n",
    "            else:\n",
    "                coef_list_loc = np.append(coef_list_loc, 3)"
   ]
  },
  {
   "cell_type": "code",
   "execution_count": 459,
   "id": "c7ab107a-dd7e-40bd-ad64-722d58c07527",
   "metadata": {},
   "outputs": [
    {
     "name": "stdout",
     "output_type": "stream",
     "text": [
      "returning full set of notes\n",
      "returning full set of notes\n",
      "returning full set of notes\n",
      "returning full set of notes\n",
      "returning full set of notes\n",
      "returning full set of notes\n",
      "returning full set of notes\n",
      "returning full set of notes\n",
      "returning full set of notes\n",
      "returning full set of notes\n",
      "returning full set of notes\n",
      "returning full set of notes\n",
      "returning full set of notes\n",
      "returning full set of notes\n",
      "returning full set of notes\n",
      "returning full set of notes\n",
      "returning full set of notes\n",
      "returning full set of notes\n",
      "returning full set of notes\n",
      "returning full set of notes\n",
      "returning full set of notes\n",
      "returning full set of notes\n",
      "returning full set of notes\n",
      "returning full set of notes\n",
      "returning full set of notes\n",
      "returning full set of notes\n",
      "returning full set of notes\n",
      "returning full set of notes\n",
      "returning full set of notes\n",
      "returning full set of notes\n",
      "returning full set of notes\n",
      "returning full set of notes\n",
      "returning full set of notes\n",
      "returning full set of notes\n",
      "returning full set of notes\n",
      "returning full set of notes\n",
      "returning full set of notes\n",
      "returning full set of notes\n",
      "returning full set of notes\n",
      "returning full set of notes\n",
      "returning full set of notes\n",
      "returning full set of notes\n",
      "returning full set of notes\n",
      "returning full set of notes\n",
      "returning full set of notes\n",
      "returning full set of notes\n",
      "returning full set of notes\n",
      "returning full set of notes\n",
      "returning full set of notes\n",
      "returning full set of notes\n",
      "returning full set of notes\n",
      "returning full set of notes\n",
      "returning full set of notes\n",
      "returning full set of notes\n",
      "returning full set of notes\n",
      "returning full set of notes\n",
      "returning full set of notes\n",
      "returning full set of notes\n",
      "returning full set of notes\n",
      "returning full set of notes\n",
      "returning full set of notes\n",
      "returning full set of notes\n",
      "returning full set of notes\n",
      "returning full set of notes\n",
      "returning full set of notes\n",
      "returning full set of notes\n",
      "returning full set of notes\n",
      "returning full set of notes\n",
      "returning full set of notes\n",
      "returning full set of notes\n",
      "returning full set of notes\n",
      "returning full set of notes\n",
      "returning full set of notes\n",
      "returning full set of notes\n",
      "returning full set of notes\n",
      "returning full set of notes\n",
      "returning full set of notes\n",
      "returning full set of notes\n",
      "returning full set of notes\n",
      "returning full set of notes\n",
      "returning full set of notes\n",
      "returning full set of notes\n",
      "returning full set of notes\n",
      "returning full set of notes\n",
      "returning full set of notes\n",
      "returning full set of notes\n",
      "returning full set of notes\n",
      "returning full set of notes\n",
      "returning full set of notes\n",
      "returning full set of notes\n",
      "returning full set of notes\n",
      "returning full set of notes\n",
      "returning full set of notes\n",
      "returning full set of notes\n",
      "returning full set of notes\n",
      "returning full set of notes\n",
      "returning full set of notes\n",
      "returning full set of notes\n",
      "returning full set of notes\n",
      "returning full set of notes\n",
      "returning full set of notes\n",
      "returning full set of notes\n",
      "returning full set of notes\n",
      "returning full set of notes\n",
      "returning full set of notes\n",
      "returning full set of notes\n",
      "returning full set of notes\n",
      "returning full set of notes\n",
      "returning full set of notes\n",
      "returning full set of notes\n",
      "returning full set of notes\n",
      "returning full set of notes\n",
      "returning full set of notes\n",
      "returning full set of notes\n",
      "returning full set of notes\n",
      "returning full set of notes\n",
      "returning full set of notes\n",
      "returning full set of notes\n",
      "returning full set of notes\n",
      "returning full set of notes\n",
      "returning full set of notes\n",
      "returning full set of notes\n",
      "returning full set of notes\n",
      "returning full set of notes\n",
      "returning full set of notes\n",
      "returning full set of notes\n",
      "returning full set of notes\n",
      "returning full set of notes\n",
      "returning full set of notes\n",
      "returning full set of notes\n",
      "returning full set of notes\n",
      "returning full set of notes\n",
      "returning full set of notes\n",
      "returning full set of notes\n",
      "returning full set of notes\n",
      "returning full set of notes\n",
      "returning full set of notes\n",
      "returning full set of notes\n",
      "returning full set of notes\n",
      "returning full set of notes\n",
      "returning full set of notes\n",
      "returning full set of notes\n",
      "returning full set of notes\n",
      "returning full set of notes\n",
      "returning full set of notes\n",
      "returning full set of notes\n",
      "returning full set of notes\n",
      "returning full set of notes\n",
      "returning full set of notes\n",
      "returning full set of notes\n",
      "returning full set of notes\n",
      "returning full set of notes\n",
      "returning full set of notes\n",
      "returning full set of notes\n",
      "returning full set of notes\n",
      "returning full set of notes\n",
      "returning full set of notes\n",
      "returning full set of notes\n",
      "returning full set of notes\n",
      "returning full set of notes\n",
      "returning full set of notes\n",
      "returning full set of notes\n",
      "returning full set of notes\n",
      "returning full set of notes\n",
      "returning full set of notes\n",
      "returning full set of notes\n",
      "returning full set of notes\n",
      "returning full set of notes\n",
      "returning full set of notes\n",
      "returning full set of notes\n",
      "returning full set of notes\n",
      "returning full set of notes\n",
      "returning full set of notes\n",
      "returning full set of notes\n",
      "returning full set of notes\n",
      "returning full set of notes\n",
      "returning full set of notes\n",
      "returning full set of notes\n",
      "returning full set of notes\n",
      "returning full set of notes\n",
      "returning full set of notes\n",
      "returning full set of notes\n",
      "returning full set of notes\n",
      "returning full set of notes\n",
      "returning full set of notes\n",
      "returning full set of notes\n",
      "returning full set of notes\n",
      "returning full set of notes\n",
      "returning full set of notes\n",
      "returning full set of notes\n",
      "returning full set of notes\n",
      "returning full set of notes\n",
      "returning full set of notes\n",
      "returning full set of notes\n",
      "returning full set of notes\n",
      "returning full set of notes\n",
      "returning full set of notes\n",
      "returning full set of notes\n",
      "returning full set of notes\n",
      "returning full set of notes\n",
      "returning full set of notes\n",
      "returning full set of notes\n",
      "returning full set of notes\n",
      "returning full set of notes\n",
      "returning full set of notes\n",
      "returning full set of notes\n",
      "returning full set of notes\n",
      "returning full set of notes\n",
      "returning full set of notes\n",
      "returning full set of notes\n",
      "returning full set of notes\n",
      "returning full set of notes\n",
      "returning full set of notes\n",
      "returning full set of notes\n",
      "returning full set of notes\n",
      "returning full set of notes\n",
      "returning full set of notes\n",
      "returning full set of notes\n",
      "returning full set of notes\n",
      "returning full set of notes\n",
      "returning full set of notes\n",
      "returning full set of notes\n",
      "returning full set of notes\n",
      "returning full set of notes\n",
      "returning full set of notes\n",
      "returning full set of notes\n",
      "returning full set of notes\n",
      "returning full set of notes\n",
      "returning full set of notes\n",
      "returning full set of notes\n",
      "returning full set of notes\n",
      "returning full set of notes\n",
      "returning full set of notes\n",
      "returning full set of notes\n",
      "returning full set of notes\n",
      "returning full set of notes\n",
      "returning full set of notes\n",
      "returning full set of notes\n",
      "returning full set of notes\n",
      "returning full set of notes\n",
      "returning full set of notes\n",
      "returning full set of notes\n",
      "returning full set of notes\n",
      "returning full set of notes\n",
      "returning full set of notes\n",
      "returning full set of notes\n",
      "returning full set of notes\n",
      "returning full set of notes\n",
      "returning full set of notes\n",
      "returning full set of notes\n",
      "returning full set of notes\n",
      "returning full set of notes\n",
      "returning full set of notes\n",
      "returning full set of notes\n",
      "returning full set of notes\n",
      "returning full set of notes\n",
      "returning full set of notes\n",
      "returning full set of notes\n",
      "returning full set of notes\n",
      "returning full set of notes\n",
      "returning full set of notes\n",
      "returning full set of notes\n",
      "returning full set of notes\n",
      "returning full set of notes\n",
      "returning full set of notes\n",
      "returning full set of notes\n",
      "returning full set of notes\n",
      "returning full set of notes\n",
      "returning full set of notes\n",
      "returning full set of notes\n",
      "returning full set of notes\n",
      "returning full set of notes\n",
      "returning full set of notes\n",
      "returning full set of notes\n",
      "returning full set of notes\n",
      "returning full set of notes\n",
      "returning full set of notes\n",
      "returning full set of notes\n",
      "returning full set of notes\n",
      "returning full set of notes\n",
      "returning full set of notes\n",
      "returning full set of notes\n",
      "returning full set of notes\n",
      "returning full set of notes\n",
      "returning full set of notes\n",
      "returning full set of notes\n",
      "returning full set of notes\n",
      "returning full set of notes\n",
      "returning full set of notes\n",
      "returning full set of notes\n",
      "returning full set of notes\n",
      "returning full set of notes\n",
      "returning full set of notes\n",
      "returning full set of notes\n",
      "returning full set of notes\n",
      "returning full set of notes\n",
      "returning full set of notes\n",
      "returning full set of notes\n",
      "returning full set of notes\n",
      "returning full set of notes\n",
      "returning full set of notes\n",
      "returning full set of notes\n",
      "returning full set of notes\n",
      "returning full set of notes\n",
      "returning full set of notes\n",
      "returning full set of notes\n",
      "returning full set of notes\n",
      "returning full set of notes\n",
      "returning full set of notes\n",
      "returning full set of notes\n",
      "returning full set of notes\n",
      "returning full set of notes\n",
      "returning full set of notes\n",
      "returning full set of notes\n",
      "returning full set of notes\n",
      "returning full set of notes\n"
     ]
    }
   ],
   "source": [
    "note_dicts = []\n",
    "note_name_dict = {}\n",
    "i = -1\n",
    "for image in name_list:\n",
    "    i += 1\n",
    "    if coef_list_loc[i] == 1:\n",
    "        sin_cos = coefs_early[image+'_sine']\n",
    "        cos_cos = coefs_early[image+'_cosine']        \n",
    "    elif coef_list_loc[i] == 2:\n",
    "        sin_cos = coefs_late[image+'_sine']\n",
    "        cos_cos = coefs_late[image+'_cosine']\n",
    "    elif coef_list_loc[i] == 4:\n",
    "        sin_cos = coefs_late_2[image+'_sine']\n",
    "        cos_cos = coefs_late_2[image+'_cosine']\n",
    "    elif coef_list_loc[i] == 5:\n",
    "        sin_cos = coefs_early_2[image+'_sine']\n",
    "        cos_cos = coefs_early_2[image+'_cosine']\n",
    "    elif coef_list_loc[i] == 3:\n",
    "        sin_cos = coefs[image+'_sine']\n",
    "        cos_cos = coefs[image+'_cosine']\n",
    "\n",
    "\n",
    "    #want to try to trigger events per snap...?\n",
    "    #print(coef_list_loc[i])\n",
    "    chord = mod_map_to_sounds_octave_ampcutoff(cos_cos, sin_cos)\n",
    "    #note_dicts.append([list(chord.keys())][0][::-1]) #flipping voicing?\n",
    "    #note_name_dict[str(image)] = [list(chord.keys())][0][::-1]\n",
    "    note_dicts.append([list(chord.keys())][0]) #flipping voicing?\n",
    "    note_name_dict[str(image)] = [list(chord.keys())][0]\n",
    "\n",
    "note_set = [list(note_dicts[i]) for i in range(len(note_dicts))]\n"
   ]
  },
  {
   "cell_type": "code",
   "execution_count": 7,
   "id": "7b13de29-0ebe-4663-89bb-f0d389d1901b",
   "metadata": {},
   "outputs": [
    {
     "data": {
      "text/plain": [
       "62.4"
      ]
     },
     "execution_count": 7,
     "metadata": {},
     "output_type": "execute_result"
    }
   ],
   "source": [
    "#len(note_set), 1575/5, # 195 duration units, 120 bpm, 500000 microseconds per quarter note\n",
    "(500000*10**(-6))*4, (120/60) # midi tempo = 120 bpm, midi ticks per beat = 480\n",
    "(500000 * 1e-6 / 480)*191, mid.ticks_per_beat\n",
    "1560/25"
   ]
  },
  {
   "cell_type": "code",
   "execution_count": 460,
   "id": "a8edae6e-4808-4eb7-a30a-d91bca69a519",
   "metadata": {},
   "outputs": [
    {
     "data": {
      "text/plain": [
       "[(np.int64(48), np.float64(127.0)),\n",
       " (np.int64(50), np.float64(68.28159057370934)),\n",
       " (np.int64(52), np.float64(112.47844775742603)),\n",
       " (np.int64(53), np.float64(107.8373533335468)),\n",
       " (np.int64(55), np.float64(72.68115826252306)),\n",
       " (np.int64(57), np.float64(101.40277460982385)),\n",
       " (np.int64(59), np.float64(104.58062534168829)),\n",
       " (np.int64(60), np.float64(100.76143392147051)),\n",
       " (np.int64(60), np.float64(49.513784045992395)),\n",
       " (np.int64(62), np.float64(39.72565905575779)),\n",
       " (np.int64(64), np.float64(41.31893750828786)),\n",
       " (np.int64(65), np.float64(43.607670640543766)),\n",
       " (np.int64(67), np.float64(47.592751382079555)),\n",
       " (np.int64(69), np.float64(46.61505784502144)),\n",
       " (np.int64(71), np.float64(41.319809841167555)),\n",
       " (np.int64(72), np.float64(36.99503345785822)),\n",
       " (np.int64(72), np.float64(54.167364857133656)),\n",
       " (np.int64(74), np.float64(51.70552274846624)),\n",
       " (np.int64(76), np.float64(52.53921319850652)),\n",
       " (np.int64(77), np.float64(49.82144084128581)),\n",
       " (np.int64(79), np.float64(44.725191945274354)),\n",
       " (np.int64(81), np.float64(43.48507141781143)),\n",
       " (np.int64(83), np.float64(48.428138552897714)),\n",
       " (np.int64(84), np.float64(51.98974612579897)),\n",
       " (np.int64(84), np.float64(48.1234095250228)),\n",
       " (np.int64(86), np.float64(22.096731681138547)),\n",
       " (np.int64(88), np.float64(31.988609770854495)),\n",
       " (np.int64(89), np.float64(43.79410994069123)),\n",
       " (np.int64(91), np.float64(49.069233624100896)),\n",
       " (np.int64(93), np.float64(50.32401160521424)),\n",
       " (np.int64(95), np.float64(49.03017905768779)),\n",
       " (np.int64(96), np.float64(46.023801868708134)),\n",
       " (np.int64(96), np.float64(53.70285832106767)),\n",
       " (np.int64(98), np.float64(48.28913971989706)),\n",
       " (np.int64(100), np.float64(42.143547406536015)),\n",
       " (np.int64(101), np.float64(42.43878417338722)),\n",
       " (np.int64(103), np.float64(45.63401041506684)),\n",
       " (np.int64(105), np.float64(47.89341515337518)),\n",
       " (np.int64(107), np.float64(49.106664093471856)),\n",
       " (np.int64(108), np.float64(49.47604007707208))]"
      ]
     },
     "execution_count": 460,
     "metadata": {},
     "output_type": "execute_result"
    }
   ],
   "source": [
    "#note_set[110], map_notes_to_midi_num(note_set[110])#, map_notes_to_midi_num(['D1']), map_notes_to_midi_num(['G1'])\n",
    "#map_notes_to_midi_num(['D#1','A#1','F1','C1','G1', 'D1', 'A1', 'E1','B1','F#1','C#1','G#1'])\n",
    "#### code from mike to do this in mido + pyfluidsynth\n",
    "def mike_remapcoefficients(cos, sin,minlog=0.,maxlog=4.):\n",
    "    logcoefamplitudes = np.log10(np.abs(cos**2+sin**2))\n",
    "    # override the max\n",
    "    maxlog = np.nanmax(logcoefamplitudes)\n",
    "    logcoefamplitudes = (logcoefamplitudes-minlog)/(maxlog-minlog)*127.\n",
    "    logcoefamplitudes[logcoefamplitudes<0]=0\n",
    "    return logcoefamplitudes\n",
    "\n",
    "\n",
    "# major scale\n",
    "scale_notes = np.array([60,62,64,65,67,69,71,72])\n",
    "\n",
    "def make_note_list(logcoefamplitudes,scale_notes,octaveshift=True):\n",
    "\n",
    "    notes = []\n",
    "    for harmonic in range(0,5):\n",
    "        if octaveshift:\n",
    "            use_notes = scale_notes + (harmonic-1)*12\n",
    "        else:\n",
    "            use_notes = scale_notes\n",
    "        newnote = [use_notes[x] for x in range(0,len(use_notes))]\n",
    "        newnote = [(note,logcoefamplitudes[i, harmonic]) for i, note in enumerate(newnote) if logcoefamplitudes[i, harmonic] > 0]\n",
    "        for note in newnote:\n",
    "            notes.append(note)\n",
    "\n",
    "    return notes\n",
    "#make_note_list(,scale_notes\n",
    "\n",
    "logcoefamplitudes = mike_remapcoefficients(coefs['json_sim_002505_cosine'], coefs['json_sim_002505_sine'])\n",
    "cc = make_note_list(logcoefamplitudes.T,scale_notes)\n",
    "cc#[0]#[0]"
   ]
  },
  {
   "cell_type": "code",
   "execution_count": 461,
   "id": "ab3a9893-eb2a-49b4-95b1-660d3e9bab64",
   "metadata": {},
   "outputs": [],
   "source": [
    "from mido import Message, MidiFile, MidiTrack\n",
    "import mido\n",
    "def mod_map_to_sounds_octave_ampcutoff(cos_cos, sin_cos):\n",
    "    note_list = np.array(['D#','A#','F','C','G', 'D', 'A', 'E','B','F#','C#','G#'])\n",
    "    #np.array(['C', 'C#', 'D', 'D#', 'E', 'F', 'F#', 'G', 'G#', 'A', 'A#', 'B']) \n",
    "    mmax = cos_cos.shape[0]\n",
    "    nmax = cos_cos.shape[1]\n",
    "\n",
    "    modulus = np.sqrt(cos_cos**2 + sin_cos**2)\n",
    "    \n",
    "    abs_max = np.max(modulus)\n",
    "    note_dict = {}\n",
    "    \n",
    "    for m in range(mmax):\n",
    "        octave = m + 1 #hmm. need to bump from m = 0 as lowest to m = 1 bc m = 0 doesn't have all notes (?)\n",
    "        for n in range(nmax):\n",
    "            amp = modulus[m,n]\n",
    "            if abs(amp) >= 0.01*abs_max: #will only play terms with amplitude at least 1% of max\n",
    "                note = note_list[n] + str(octave)\n",
    "                note_dict[note] = abs(amp)\n",
    "\n",
    "    print('returning full set of notes')\n",
    "    return note_dict\n",
    "\n",
    "def map_notes_to_midi_num(notes):\n",
    "    midi_note_list = []\n",
    "    for note_ in notes:\n",
    "        note = note_[:-1] #getting rid of octave\n",
    "        octave = int(note_[-1])\n",
    "        if note == 'C':\n",
    "            midi_note = 24\n",
    "        elif note == 'C#':\n",
    "            midi_note = 25\n",
    "        elif note == 'D':\n",
    "            midi_note = 26\n",
    "        elif note == 'D#':\n",
    "            midi_note = 27\n",
    "        elif note == 'E':\n",
    "            midi_note = 28\n",
    "        elif note == 'F':\n",
    "            midi_note = 29\n",
    "        elif note == 'F#':\n",
    "            midi_note = 30\n",
    "        elif note == 'G':\n",
    "            midi_note = 31\n",
    "        elif note == 'G#':\n",
    "            midi_note = 32\n",
    "        elif note == 'A':\n",
    "            midi_note = 33\n",
    "        elif note == 'A#':\n",
    "            midi_note = 34\n",
    "        elif note == 'B':\n",
    "            midi_note = 35\n",
    "        if octave == 1:\n",
    "            midi_note_list.append(midi_note)\n",
    "        else:\n",
    "            midi_note_list.append(midi_note + octave*12)\n",
    "    return midi_note_list\n",
    "\n",
    "\n",
    "\n",
    "def add_chord(track, notes, duration, velocity=127): #64):\n",
    "    for note in notes:\n",
    "        track.append(Message('note_on', note=note, velocity=velocity, time=0))\n",
    "    track.append(Message('note_off', note=notes[0], velocity=velocity, time=duration))# * 480))\n",
    "    for note in notes[1:]:\n",
    "        track.append(Message('note_off', note=note, velocity=velocity, time=0))\n",
    "\n",
    "'''\n",
    "def make_midi_chords(note_names, chord_length, outputfile):\n",
    "\n",
    "    # Create a new MIDI file and track\n",
    "    mid = MidiFile()\n",
    "    track = MidiTrack()\n",
    "    mid.tracks.append(track)\n",
    "\n",
    "    # Set the tempo (optional, here 120 BPM)\n",
    "    tempo = mido.bpm2tempo(120)\n",
    "    track.append(mido.MetaMessage('set_tempo', tempo=tempo))\n",
    "\n",
    "    # Insert program change at the beginning of the track\n",
    "    program_change = mido.Message('program_change', program=1, time=0) \n",
    "    track.insert(0, program_change)\n",
    "\n",
    "    notes = map_notes_to_midi_num(note_names)\n",
    "    add_chord(track, notes, chord_length)\n",
    "\n",
    "    # Save the MIDI file\n",
    "    mid.save(outputfile)\n",
    "'''\n",
    "\n",
    "def add_chord_stacked(track, notes, duration, i, velocity=127): #64):\n",
    "    dlist = []\n",
    "    for note in notes:\n",
    "        d = duration\n",
    "        if note > 47:\n",
    "            d = duration * 2\n",
    "        if note > 59:\n",
    "            d = duration * 3\n",
    "        if note > 61:\n",
    "            d = duration * 4\n",
    "        dlist.append(d)\n",
    "        track.append(Message('note_on', note=note, velocity=velocity, time=0))\n",
    "    for d in dlist:\n",
    "        track.append(Message('note_off', note=notes[0], velocity=velocity, time=d))# * 480))\n",
    "    for note in notes[1:]:\n",
    "        track.append(Message('note_off', note=note, velocity=velocity, time=0))\n",
    "                     \n",
    "        \n",
    "def make_midi_chords_stacked(note_names, chord_length, outputfile):\n",
    "\n",
    "    # Create a new MIDI file and track\n",
    "    mid = MidiFile()\n",
    "    track = MidiTrack()\n",
    "    mid.tracks.append(track)\n",
    "\n",
    "    # Set the tempo (optional, here 120 BPM)\n",
    "    tempo = mido.bpm2tempo(120)\n",
    "    track.append(mido.MetaMessage('set_tempo', tempo=tempo))\n",
    "\n",
    "    # Insert program change at the beginning of the track\n",
    "    program_change = mido.Message('program_change', program=1, time=0) \n",
    "    track.insert(0, program_change)\n",
    "    i = -1\n",
    "    for chord in note_names:\n",
    "        i += 1\n",
    "        notes = map_notes_to_midi_num(chord)\n",
    "        add_chord_stacked(track, notes, i, chord_length)\n",
    "    # Save the MIDI file\n",
    "    print('length', mid.length)\n",
    "    mid.save(outputfile)\n",
    "\n",
    "def make_midi_chords(note_names, chord_length, outputfile):\n",
    "\n",
    "    # Create a new MIDI file and track\n",
    "    mid = MidiFile()\n",
    "    track = MidiTrack()\n",
    "    mid.tracks.append(track)\n",
    "\n",
    "    # Set the tempo (optional, here 120 BPM)\n",
    "    tempo = mido.bpm2tempo(120)\n",
    "    track.append(mido.MetaMessage('set_tempo', tempo=tempo))\n",
    "\n",
    "    # Insert program change at the beginning of the track\n",
    "    program_change = mido.Message('program_change', program=1, time=0) \n",
    "    track.insert(0, program_change)\n",
    "    for chord in note_names:\n",
    "        notes = map_notes_to_midi_num(chord)\n",
    "        add_chord(track, notes, chord_length)\n",
    "    # Save the MIDI file\n",
    "    print('length', mid.length)\n",
    "    mid.save(outputfile)"
   ]
  },
  {
   "cell_type": "code",
   "execution_count": null,
   "id": "d87eb11f-4e7a-4499-a164-0f6003eaa1b3",
   "metadata": {},
   "outputs": [],
   "source": []
  },
  {
   "cell_type": "code",
   "execution_count": 1,
   "id": "f096cfec-6c6e-4af2-963f-2872df0f3885",
   "metadata": {},
   "outputs": [],
   "source": [
    "#for i in range(10):\n",
    "#    make_midi_chords(note_set[i], 250, 'try'+str(i)+'.mid') #185\n",
    "#make_midi_chords(note_set, 191, 'try'+str(33)+'.mid') #185, 195\n",
    "#! fluidsynth \"op1_synth8_try2.sf2\" -F \"try33.wav\" try33.mid"
   ]
  },
  {
   "cell_type": "code",
   "execution_count": 363,
   "id": "6f0b573c-eab9-421b-bd78-61172a23b018",
   "metadata": {},
   "outputs": [
    {
     "data": {
      "text/plain": [
       "'\\n! fluidsynth \"op1_synth8_try2.sf2\" -F \"try1.wav\" try1.mid\\n! fluidsynth \"op1_synth8_try2.sf2\" -F \"try2.wav\" try2.mid\\n! fluidsynth \"op1_synth8_try2.sf2\" -F \"try3.wav\" try3.mid\\n! fluidsynth \"op1_synth8_try2.sf2\" -F \"try4.wav\" try4.mid\\n! fluidsynth \"op1_synth8_try2.sf2\" -F \"try5.wav\" try5.mid\\n'"
      ]
     },
     "execution_count": 363,
     "metadata": {},
     "output_type": "execute_result"
    }
   ],
   "source": [
    "'''\n",
    "! fluidsynth \"op1_synth8_try2.sf2\" -F \"try1.wav\" try1.mid\n",
    "! fluidsynth \"op1_synth8_try2.sf2\" -F \"try2.wav\" try2.mid\n",
    "! fluidsynth \"op1_synth8_try2.sf2\" -F \"try3.wav\" try3.mid\n",
    "! fluidsynth \"op1_synth8_try2.sf2\" -F \"try4.wav\" try4.mid\n",
    "! fluidsynth \"op1_synth8_try2.sf2\" -F \"try5.wav\" try5.mid\n",
    "'''"
   ]
  },
  {
   "cell_type": "code",
   "execution_count": 2,
   "id": "ecf660e7-3ba5-4151-8a90-003af408a290",
   "metadata": {},
   "outputs": [],
   "source": [
    "#make_midi_chords(note_set[0:10], 2000, 'try1.mid')\n",
    "#! fluidsynth \"op1_synth8_try2.sf2\" -F \"try1.wav\" try1.mid"
   ]
  },
  {
   "cell_type": "code",
   "execution_count": 304,
   "id": "84881d79-873c-4624-9f1e-7c7bc71544ee",
   "metadata": {},
   "outputs": [
    {
     "name": "stdout",
     "output_type": "stream",
     "text": [
      "length 5.208333333333333\n",
      "FluidSynth runtime version 2.4.6\n",
      "Copyright (C) 2000-2025 Peter Hanappe and others.\n",
      "Distributed under the LGPL license.\n",
      "SoundFont(R) is a registered trademark of Creative Technology Ltd.\n",
      "\n",
      "fluidsynth: warning: No preset found on channel 9 [bank=128 prog=0]\n",
      "Rendering audio to file 'try2.wav'..\n",
      "fluidsynth: warning: Instrument not found on channel 0 [bank=0 prog=1], substituted [bank=0 prog=0]\n"
     ]
    }
   ],
   "source": [
    "make_midi_chords(note_set[0:10], 5000, 'try2.mid')\n",
    "! fluidsynth \"op1_synth8_try2.sf2\" -F \"try2.wav\" try2.mid"
   ]
  },
  {
   "cell_type": "code",
   "execution_count": null,
   "id": "02192de3-c751-4f47-9afb-5ebb07874c84",
   "metadata": {},
   "outputs": [],
   "source": []
  },
  {
   "cell_type": "code",
   "execution_count": 41,
   "id": "d54f0377-bb4e-4be3-a496-a14581e4870d",
   "metadata": {},
   "outputs": [
    {
     "name": "stdout",
     "output_type": "stream",
     "text": [
      "Images: ['json_sim_000005.png', 'json_sim_000010.png', 'json_sim_000015.png', 'json_sim_000020.png', 'json_sim_000025.png', 'json_sim_000030.png', 'json_sim_000035.png', 'json_sim_000040.png', 'json_sim_000045.png', 'json_sim_000050.png', 'json_sim_000055.png', 'json_sim_000060.png', 'json_sim_000065.png', 'json_sim_000070.png', 'json_sim_000075.png', 'json_sim_000080.png', 'json_sim_000085.png', 'json_sim_000090.png', 'json_sim_000095.png', 'json_sim_000100.png', 'json_sim_000105.png', 'json_sim_000110.png', 'json_sim_000115.png', 'json_sim_000120.png', 'json_sim_000125.png', 'json_sim_000130.png', 'json_sim_000135.png', 'json_sim_000140.png', 'json_sim_000145.png', 'json_sim_000150.png', 'json_sim_000155.png', 'json_sim_000160.png', 'json_sim_000165.png', 'json_sim_000170.png', 'json_sim_000175.png', 'json_sim_000180.png', 'json_sim_000185.png', 'json_sim_000190.png', 'json_sim_000195.png', 'json_sim_000200.png', 'json_sim_000205.png', 'json_sim_000210.png', 'json_sim_000215.png', 'json_sim_000220.png', 'json_sim_000225.png', 'json_sim_000230.png', 'json_sim_000235.png', 'json_sim_000240.png', 'json_sim_000245.png', 'json_sim_000250.png', 'json_sim_000255.png', 'json_sim_000260.png', 'json_sim_000265.png', 'json_sim_000270.png', 'json_sim_000275.png', 'json_sim_000280.png', 'json_sim_000285.png', 'json_sim_000290.png', 'json_sim_000295.png', 'json_sim_000300.png', 'json_sim_000305.png', 'json_sim_000310.png', 'json_sim_000315.png', 'json_sim_000320.png', 'json_sim_000325.png', 'json_sim_000330.png', 'json_sim_000335.png', 'json_sim_000340.png', 'json_sim_000345.png', 'json_sim_000350.png', 'json_sim_000355.png', 'json_sim_000360.png', 'json_sim_000365.png', 'json_sim_000370.png', 'json_sim_000375.png', 'json_sim_000380.png', 'json_sim_000385.png', 'json_sim_000390.png', 'json_sim_000395.png', 'json_sim_000400.png', 'json_sim_000405.png', 'json_sim_000410.png', 'json_sim_000415.png', 'json_sim_000420.png', 'json_sim_000425.png', 'json_sim_000430.png', 'json_sim_000435.png', 'json_sim_000440.png', 'json_sim_000445.png', 'json_sim_000450.png', 'json_sim_000455.png', 'json_sim_000460.png', 'json_sim_000465.png', 'json_sim_000470.png', 'json_sim_000475.png', 'json_sim_000480.png', 'json_sim_000485.png', 'json_sim_000490.png', 'json_sim_000495.png', 'json_sim_000500.png', 'json_sim_000505.png', 'json_sim_000510.png', 'json_sim_000515.png', 'json_sim_000520.png', 'json_sim_000525.png', 'json_sim_000530.png', 'json_sim_000535.png', 'json_sim_000540.png', 'json_sim_000545.png', 'json_sim_000550.png', 'json_sim_000555.png', 'json_sim_000560.png', 'json_sim_000565.png', 'json_sim_000570.png', 'json_sim_000575.png', 'json_sim_000580.png', 'json_sim_000585.png', 'json_sim_000590.png', 'json_sim_000595.png', 'json_sim_000600.png', 'json_sim_000605.png', 'json_sim_000610.png', 'json_sim_000615.png', 'json_sim_000620.png', 'json_sim_000625.png', 'json_sim_000630.png', 'json_sim_000635.png', 'json_sim_000640.png', 'json_sim_000645.png', 'json_sim_000650.png', 'json_sim_000655.png', 'json_sim_000660.png', 'json_sim_000665.png', 'json_sim_000670.png', 'json_sim_000675.png', 'json_sim_000680.png', 'json_sim_000685.png', 'json_sim_000690.png', 'json_sim_000695.png', 'json_sim_000700.png', 'json_sim_000705.png', 'json_sim_000710.png', 'json_sim_000715.png', 'json_sim_000720.png', 'json_sim_000725.png', 'json_sim_000730.png', 'json_sim_000735.png', 'json_sim_000740.png', 'json_sim_000745.png', 'json_sim_000750.png', 'json_sim_000755.png', 'json_sim_000760.png', 'json_sim_000765.png', 'json_sim_000770.png', 'json_sim_000775.png', 'json_sim_000780.png', 'json_sim_000785.png', 'json_sim_000790.png', 'json_sim_000795.png', 'json_sim_000800.png', 'json_sim_000805.png', 'json_sim_000810.png', 'json_sim_000815.png', 'json_sim_000820.png', 'json_sim_000825.png', 'json_sim_000830.png', 'json_sim_000835.png', 'json_sim_000840.png', 'json_sim_000845.png', 'json_sim_000850.png', 'json_sim_000855.png', 'json_sim_000860.png', 'json_sim_000865.png', 'json_sim_000870.png', 'json_sim_000875.png', 'json_sim_000880.png', 'json_sim_000885.png', 'json_sim_000890.png', 'json_sim_000895.png', 'json_sim_000900.png', 'json_sim_000905.png', 'json_sim_000910.png', 'json_sim_000915.png', 'json_sim_000920.png', 'json_sim_000925.png', 'json_sim_000930.png', 'json_sim_000935.png', 'json_sim_000940.png', 'json_sim_000945.png', 'json_sim_000950.png', 'json_sim_000955.png', 'json_sim_000960.png', 'json_sim_000965.png', 'json_sim_000970.png', 'json_sim_000975.png', 'json_sim_000980.png', 'json_sim_000985.png', 'json_sim_000990.png', 'json_sim_000995.png', 'json_sim_001000.png', 'json_sim_001005.png', 'json_sim_001010.png', 'json_sim_001015.png', 'json_sim_001020.png', 'json_sim_001025.png', 'json_sim_001030.png', 'json_sim_001035.png', 'json_sim_001040.png', 'json_sim_001045.png', 'json_sim_001050.png', 'json_sim_001055.png', 'json_sim_001060.png', 'json_sim_001065.png', 'json_sim_001070.png', 'json_sim_001075.png', 'json_sim_001080.png', 'json_sim_001085.png', 'json_sim_001090.png', 'json_sim_001095.png', 'json_sim_001100.png', 'json_sim_001105.png', 'json_sim_001110.png', 'json_sim_001115.png', 'json_sim_001120.png', 'json_sim_001125.png', 'json_sim_001130.png', 'json_sim_001135.png', 'json_sim_001140.png', 'json_sim_001145.png', 'json_sim_001150.png', 'json_sim_001155.png', 'json_sim_001160.png', 'json_sim_001165.png', 'json_sim_001170.png', 'json_sim_001175.png', 'json_sim_001180.png', 'json_sim_001185.png', 'json_sim_001190.png', 'json_sim_001195.png', 'json_sim_001200.png', 'json_sim_001205.png', 'json_sim_001210.png', 'json_sim_001215.png', 'json_sim_001220.png', 'json_sim_001225.png', 'json_sim_001230.png', 'json_sim_001235.png', 'json_sim_001240.png', 'json_sim_001245.png', 'json_sim_001250.png', 'json_sim_001255.png', 'json_sim_001260.png', 'json_sim_001265.png', 'json_sim_001270.png', 'json_sim_001275.png', 'json_sim_001280.png', 'json_sim_001285.png', 'json_sim_001290.png', 'json_sim_001295.png', 'json_sim_001300.png', 'json_sim_001305.png', 'json_sim_001310.png', 'json_sim_001315.png', 'json_sim_001320.png', 'json_sim_001325.png', 'json_sim_001330.png', 'json_sim_001335.png', 'json_sim_001340.png', 'json_sim_001345.png', 'json_sim_001350.png', 'json_sim_001355.png', 'json_sim_001360.png', 'json_sim_001365.png', 'json_sim_001370.png', 'json_sim_001375.png', 'json_sim_001380.png', 'json_sim_001385.png', 'json_sim_001390.png', 'json_sim_001395.png', 'json_sim_001400.png', 'json_sim_001405.png', 'json_sim_001410.png', 'json_sim_001415.png', 'json_sim_001420.png', 'json_sim_001425.png', 'json_sim_001430.png', 'json_sim_001435.png', 'json_sim_001440.png', 'json_sim_001445.png', 'json_sim_001450.png', 'json_sim_001455.png', 'json_sim_001460.png', 'json_sim_001465.png', 'json_sim_001470.png', 'json_sim_001475.png', 'json_sim_001480.png', 'json_sim_001485.png', 'json_sim_001490.png', 'json_sim_001495.png', 'json_sim_001500.png', 'json_sim_001505.png', 'json_sim_001510.png', 'json_sim_001515.png', 'json_sim_001520.png', 'json_sim_001525.png', 'json_sim_001530.png', 'json_sim_001535.png', 'json_sim_001540.png', 'json_sim_001545.png', 'json_sim_001550.png', 'json_sim_001555.png', 'json_sim_001560.png', 'json_sim_001565.png', 'json_sim_001570.png', 'json_sim_001575.png', 'json_sim_001580.png', 'json_sim_001585.png', 'json_sim_001590.png', 'json_sim_001595.png', 'json_sim_001600.png', 'json_sim_001605.png', 'json_sim_001610.png', 'json_sim_001615.png', 'json_sim_001620.png', 'json_sim_001625.png', 'json_sim_001630.png', 'json_sim_001635.png', 'json_sim_001640.png', 'json_sim_001645.png', 'json_sim_001650.png', 'json_sim_001655.png', 'json_sim_001660.png', 'json_sim_001665.png', 'json_sim_001670.png', 'json_sim_001675.png', 'json_sim_001680.png', 'json_sim_001685.png', 'json_sim_001690.png', 'json_sim_001695.png', 'json_sim_001700.png', 'json_sim_001705.png', 'json_sim_001710.png', 'json_sim_001715.png', 'json_sim_001720.png', 'json_sim_001725.png', 'json_sim_001730.png', 'json_sim_001735.png', 'json_sim_001740.png', 'json_sim_001745.png', 'json_sim_001750.png', 'json_sim_001755.png', 'json_sim_001760.png', 'json_sim_001765.png', 'json_sim_001770.png', 'json_sim_001775.png', 'json_sim_001780.png', 'json_sim_001785.png', 'json_sim_001790.png', 'json_sim_001795.png', 'json_sim_001800.png', 'json_sim_001805.png', 'json_sim_001810.png', 'json_sim_001815.png', 'json_sim_001820.png', 'json_sim_001825.png', 'json_sim_001830.png', 'json_sim_001835.png', 'json_sim_001840.png', 'json_sim_001845.png', 'json_sim_001850.png', 'json_sim_001855.png', 'json_sim_001860.png', 'json_sim_001865.png', 'json_sim_001870.png', 'json_sim_001875.png', 'json_sim_001880.png', 'json_sim_001885.png', 'json_sim_001890.png', 'json_sim_001895.png', 'json_sim_001900.png', 'json_sim_001905.png', 'json_sim_001910.png', 'json_sim_001915.png', 'json_sim_001920.png', 'json_sim_001925.png', 'json_sim_001930.png', 'json_sim_001935.png', 'json_sim_001940.png', 'json_sim_001945.png', 'json_sim_001950.png', 'json_sim_001955.png', 'json_sim_001960.png', 'json_sim_001965.png', 'json_sim_001970.png', 'json_sim_001975.png', 'json_sim_001980.png', 'json_sim_001985.png', 'json_sim_001990.png', 'json_sim_001995.png', 'json_sim_002000.png', 'json_sim_002005.png', 'json_sim_002010.png', 'json_sim_002015.png', 'json_sim_002020.png', 'json_sim_002025.png', 'json_sim_002030.png', 'json_sim_002035.png', 'json_sim_002040.png', 'json_sim_002045.png', 'json_sim_002050.png', 'json_sim_002055.png', 'json_sim_002060.png', 'json_sim_002065.png', 'json_sim_002070.png', 'json_sim_002075.png', 'json_sim_002080.png', 'json_sim_002085.png', 'json_sim_002090.png', 'json_sim_002095.png', 'json_sim_002100.png', 'json_sim_002105.png', 'json_sim_002110.png', 'json_sim_002115.png', 'json_sim_002120.png', 'json_sim_002125.png', 'json_sim_002130.png', 'json_sim_002135.png', 'json_sim_002140.png', 'json_sim_002145.png', 'json_sim_002150.png', 'json_sim_002155.png', 'json_sim_002160.png', 'json_sim_002165.png', 'json_sim_002170.png', 'json_sim_002175.png', 'json_sim_002180.png', 'json_sim_002185.png', 'json_sim_002190.png', 'json_sim_002195.png', 'json_sim_002200.png', 'json_sim_002205.png', 'json_sim_002210.png', 'json_sim_002215.png', 'json_sim_002220.png', 'json_sim_002225.png', 'json_sim_002230.png', 'json_sim_002235.png', 'json_sim_002240.png', 'json_sim_002245.png', 'json_sim_002250.png', 'json_sim_002255.png', 'json_sim_002260.png', 'json_sim_002265.png', 'json_sim_002270.png', 'json_sim_002275.png', 'json_sim_002280.png', 'json_sim_002285.png', 'json_sim_002290.png', 'json_sim_002295.png', 'json_sim_002300.png', 'json_sim_002305.png', 'json_sim_002310.png', 'json_sim_002315.png', 'json_sim_002320.png', 'json_sim_002325.png', 'json_sim_002330.png', 'json_sim_002335.png', 'json_sim_002340.png', 'json_sim_002345.png', 'json_sim_002350.png', 'json_sim_002355.png', 'json_sim_002360.png', 'json_sim_002365.png', 'json_sim_002370.png', 'json_sim_002375.png', 'json_sim_002380.png', 'json_sim_002385.png', 'json_sim_002390.png', 'json_sim_002395.png', 'json_sim_002400.png', 'json_sim_002405.png', 'json_sim_002410.png', 'json_sim_002415.png', 'json_sim_002420.png', 'json_sim_002425.png', 'json_sim_002430.png', 'json_sim_002435.png', 'json_sim_002440.png', 'json_sim_002445.png', 'json_sim_002450.png', 'json_sim_002455.png', 'json_sim_002460.png', 'json_sim_002465.png', 'json_sim_002470.png', 'json_sim_002475.png', 'json_sim_002480.png', 'json_sim_002485.png', 'json_sim_002490.png', 'json_sim_002495.png', 'json_sim_002500.png', 'json_sim_002505.png', 'json_sim_002510.png', 'json_sim_002515.png', 'json_sim_002520.png', 'json_sim_002525.png', 'json_sim_002530.png', 'json_sim_002535.png', 'json_sim_002540.png', 'json_sim_002545.png', 'json_sim_002550.png', 'json_sim_002555.png', 'json_sim_002560.png', 'json_sim_002565.png', 'json_sim_002570.png', 'json_sim_002575.png', 'json_sim_002580.png', 'json_sim_002585.png', 'json_sim_002590.png', 'json_sim_002595.png', 'json_sim_002600.png', 'json_sim_002605.png', 'json_sim_002610.png', 'json_sim_002615.png', 'json_sim_002620.png', 'json_sim_002625.png', 'json_sim_002630.png', 'json_sim_002635.png', 'json_sim_002640.png', 'json_sim_002645.png', 'json_sim_002650.png', 'json_sim_002655.png', 'json_sim_002660.png', 'json_sim_002665.png', 'json_sim_002670.png', 'json_sim_002675.png', 'json_sim_002680.png', 'json_sim_002685.png', 'json_sim_002690.png', 'json_sim_002695.png', 'json_sim_002700.png', 'json_sim_002705.png', 'json_sim_002710.png', 'json_sim_002715.png', 'json_sim_002720.png', 'json_sim_002725.png', 'json_sim_002730.png', 'json_sim_002735.png', 'json_sim_002740.png', 'json_sim_002745.png', 'json_sim_002750.png', 'json_sim_002755.png', 'json_sim_002760.png', 'json_sim_002765.png', 'json_sim_002770.png', 'json_sim_002775.png', 'json_sim_002780.png', 'json_sim_002785.png', 'json_sim_002790.png', 'json_sim_002795.png', 'json_sim_002800.png', 'json_sim_002805.png', 'json_sim_002810.png', 'json_sim_002815.png', 'json_sim_002820.png', 'json_sim_002825.png', 'json_sim_002830.png', 'json_sim_002835.png', 'json_sim_002840.png', 'json_sim_002845.png', 'json_sim_002850.png', 'json_sim_002855.png', 'json_sim_002860.png', 'json_sim_002865.png', 'json_sim_002870.png', 'json_sim_002875.png', 'json_sim_002880.png', 'json_sim_002885.png', 'json_sim_002890.png', 'json_sim_002895.png', 'json_sim_002900.png', 'json_sim_002905.png', 'json_sim_002910.png', 'json_sim_002915.png', 'json_sim_002920.png', 'json_sim_002925.png', 'json_sim_002930.png', 'json_sim_002935.png', 'json_sim_002940.png', 'json_sim_002945.png', 'json_sim_002950.png', 'json_sim_002955.png', 'json_sim_002960.png', 'json_sim_002965.png', 'json_sim_002970.png', 'json_sim_002975.png', 'json_sim_002980.png', 'json_sim_002985.png', 'json_sim_002990.png', 'json_sim_002995.png', 'json_sim_003000.png', 'json_sim_003005.png', 'json_sim_003010.png', 'json_sim_003015.png', 'json_sim_003020.png', 'json_sim_003025.png', 'json_sim_003030.png', 'json_sim_003035.png', 'json_sim_003040.png', 'json_sim_003045.png', 'json_sim_003050.png', 'json_sim_003055.png', 'json_sim_003060.png', 'json_sim_003065.png', 'json_sim_003070.png', 'json_sim_003075.png', 'json_sim_003080.png', 'json_sim_003085.png', 'json_sim_003090.png', 'json_sim_003095.png', 'json_sim_003100.png', 'json_sim_003105.png', 'json_sim_003110.png', 'json_sim_003115.png', 'json_sim_003120.png', 'json_sim_003125.png', 'json_sim_003130.png', 'json_sim_003135.png', 'json_sim_003140.png', 'json_sim_003145.png', 'json_sim_003150.png', 'json_sim_003155.png', 'json_sim_003160.png', 'json_sim_003165.png', 'json_sim_003170.png', 'json_sim_003175.png', 'json_sim_003180.png', 'json_sim_003185.png', 'json_sim_003190.png', 'json_sim_003195.png', 'json_sim_003200.png', 'json_sim_003205.png', 'json_sim_003210.png', 'json_sim_003215.png', 'json_sim_003220.png', 'json_sim_003225.png', 'json_sim_003230.png', 'json_sim_003235.png', 'json_sim_003240.png', 'json_sim_003245.png', 'json_sim_003250.png', 'json_sim_003255.png', 'json_sim_003260.png', 'json_sim_003265.png', 'json_sim_003270.png', 'json_sim_003275.png', 'json_sim_003280.png', 'json_sim_003285.png', 'json_sim_003290.png', 'json_sim_003295.png', 'json_sim_003300.png', 'json_sim_003305.png', 'json_sim_003310.png', 'json_sim_003315.png', 'json_sim_003320.png', 'json_sim_003325.png', 'json_sim_003330.png', 'json_sim_003335.png', 'json_sim_003340.png', 'json_sim_003345.png', 'json_sim_003350.png', 'json_sim_003355.png', 'json_sim_003360.png', 'json_sim_003365.png', 'json_sim_003370.png', 'json_sim_003375.png', 'json_sim_003380.png', 'json_sim_003385.png', 'json_sim_003390.png', 'json_sim_003395.png', 'json_sim_003400.png', 'json_sim_003405.png', 'json_sim_003410.png', 'json_sim_003415.png', 'json_sim_003420.png', 'json_sim_003425.png', 'json_sim_003430.png', 'json_sim_003435.png', 'json_sim_003440.png', 'json_sim_003445.png', 'json_sim_003450.png', 'json_sim_003455.png', 'json_sim_003460.png', 'json_sim_003465.png', 'json_sim_003470.png', 'json_sim_003475.png', 'json_sim_003480.png', 'json_sim_003485.png', 'json_sim_003490.png', 'json_sim_003495.png', 'json_sim_003500.png', 'json_sim_003505.png', 'json_sim_003510.png', 'json_sim_003515.png', 'json_sim_003520.png', 'json_sim_003525.png', 'json_sim_003530.png', 'json_sim_003535.png', 'json_sim_003540.png', 'json_sim_003545.png', 'json_sim_003550.png', 'json_sim_003555.png', 'json_sim_003560.png', 'json_sim_003565.png', 'json_sim_003570.png', 'json_sim_003575.png', 'json_sim_003580.png', 'json_sim_003585.png', 'json_sim_003590.png', 'json_sim_003595.png', 'json_sim_003600.png', 'json_sim_003605.png', 'json_sim_003610.png', 'json_sim_003615.png', 'json_sim_003620.png', 'json_sim_003625.png', 'json_sim_003630.png', 'json_sim_003635.png', 'json_sim_003640.png', 'json_sim_003645.png', 'json_sim_003650.png', 'json_sim_003655.png', 'json_sim_003660.png', 'json_sim_003665.png', 'json_sim_003670.png', 'json_sim_003675.png', 'json_sim_003680.png', 'json_sim_003685.png', 'json_sim_003690.png', 'json_sim_003695.png', 'json_sim_003700.png', 'json_sim_003705.png', 'json_sim_003710.png', 'json_sim_003715.png', 'json_sim_003720.png', 'json_sim_003725.png', 'json_sim_003730.png', 'json_sim_003735.png', 'json_sim_003740.png', 'json_sim_003745.png', 'json_sim_003750.png', 'json_sim_003755.png', 'json_sim_003760.png', 'json_sim_003765.png', 'json_sim_003770.png', 'json_sim_003775.png', 'json_sim_003780.png', 'json_sim_003785.png', 'json_sim_003790.png', 'json_sim_003795.png', 'json_sim_003800.png', 'json_sim_003805.png', 'json_sim_003810.png', 'json_sim_003815.png', 'json_sim_003820.png', 'json_sim_003825.png', 'json_sim_003830.png', 'json_sim_003835.png', 'json_sim_003840.png', 'json_sim_003845.png', 'json_sim_003850.png', 'json_sim_003855.png', 'json_sim_003860.png', 'json_sim_003865.png', 'json_sim_003870.png', 'json_sim_003875.png', 'json_sim_003880.png', 'json_sim_003885.png', 'json_sim_003890.png', 'json_sim_003895.png', 'json_sim_003900.png', 'json_sim_003905.png', 'json_sim_003910.png', 'json_sim_003915.png', 'json_sim_003920.png', 'json_sim_003925.png', 'json_sim_003930.png', 'json_sim_003935.png', 'json_sim_003940.png', 'json_sim_003945.png', 'json_sim_003950.png', 'json_sim_003955.png', 'json_sim_003960.png', 'json_sim_003965.png', 'json_sim_003970.png', 'json_sim_003975.png', 'json_sim_003980.png', 'json_sim_003985.png', 'json_sim_003990.png', 'json_sim_003995.png', 'json_sim_004000.png', 'json_sim_004005.png', 'json_sim_004010.png', 'json_sim_004015.png', 'json_sim_004020.png', 'json_sim_004025.png', 'json_sim_004030.png', 'json_sim_004035.png', 'json_sim_004040.png', 'json_sim_004045.png', 'json_sim_004050.png', 'json_sim_004055.png', 'json_sim_004060.png', 'json_sim_004065.png', 'json_sim_004070.png', 'json_sim_004075.png', 'json_sim_004080.png', 'json_sim_004085.png', 'json_sim_004090.png', 'json_sim_004095.png', 'json_sim_004100.png', 'json_sim_004105.png', 'json_sim_004110.png', 'json_sim_004115.png', 'json_sim_004120.png', 'json_sim_004125.png', 'json_sim_004130.png', 'json_sim_004135.png', 'json_sim_004140.png', 'json_sim_004145.png', 'json_sim_004150.png', 'json_sim_004155.png', 'json_sim_004160.png', 'json_sim_004165.png', 'json_sim_004170.png', 'json_sim_004175.png', 'json_sim_004180.png', 'json_sim_004185.png', 'json_sim_004190.png', 'json_sim_004195.png', 'json_sim_004200.png', 'json_sim_004205.png', 'json_sim_004210.png', 'json_sim_004215.png', 'json_sim_004220.png', 'json_sim_004225.png', 'json_sim_004230.png', 'json_sim_004235.png', 'json_sim_004240.png', 'json_sim_004245.png', 'json_sim_004250.png', 'json_sim_004255.png', 'json_sim_004260.png', 'json_sim_004265.png', 'json_sim_004270.png', 'json_sim_004275.png', 'json_sim_004280.png', 'json_sim_004285.png', 'json_sim_004290.png', 'json_sim_004295.png', 'json_sim_004300.png', 'json_sim_004305.png', 'json_sim_004310.png', 'json_sim_004315.png', 'json_sim_004320.png', 'json_sim_004325.png', 'json_sim_004330.png', 'json_sim_004335.png', 'json_sim_004340.png', 'json_sim_004345.png', 'json_sim_004350.png', 'json_sim_004355.png', 'json_sim_004360.png', 'json_sim_004365.png', 'json_sim_004370.png', 'json_sim_004375.png', 'json_sim_004380.png', 'json_sim_004385.png', 'json_sim_004390.png', 'json_sim_004395.png', 'json_sim_004400.png', 'json_sim_004405.png', 'json_sim_004410.png', 'json_sim_004415.png', 'json_sim_004420.png', 'json_sim_004425.png', 'json_sim_004430.png', 'json_sim_004435.png', 'json_sim_004440.png', 'json_sim_004445.png', 'json_sim_004450.png', 'json_sim_004455.png', 'json_sim_004460.png', 'json_sim_004465.png', 'json_sim_004470.png', 'json_sim_004475.png', 'json_sim_004480.png', 'json_sim_004485.png', 'json_sim_004490.png', 'json_sim_004495.png', 'json_sim_004500.png', 'json_sim_004505.png', 'json_sim_004510.png', 'json_sim_004515.png', 'json_sim_004520.png', 'json_sim_004525.png', 'json_sim_004530.png', 'json_sim_004535.png', 'json_sim_004540.png', 'json_sim_004545.png', 'json_sim_004550.png', 'json_sim_004555.png', 'json_sim_004560.png', 'json_sim_004565.png', 'json_sim_004570.png', 'json_sim_004575.png', 'json_sim_004580.png', 'json_sim_004585.png', 'json_sim_004590.png', 'json_sim_004595.png', 'json_sim_004600.png', 'json_sim_004605.png', 'json_sim_004610.png', 'json_sim_004615.png', 'json_sim_004620.png', 'json_sim_004625.png', 'json_sim_004630.png', 'json_sim_004635.png', 'json_sim_004640.png', 'json_sim_004645.png', 'json_sim_004650.png', 'json_sim_004655.png', 'json_sim_004660.png', 'json_sim_004665.png', 'json_sim_004670.png', 'json_sim_004675.png', 'json_sim_004680.png', 'json_sim_004685.png', 'json_sim_004690.png', 'json_sim_004695.png', 'json_sim_004700.png', 'json_sim_004705.png', 'json_sim_004710.png', 'json_sim_004715.png', 'json_sim_004720.png', 'json_sim_004725.png', 'json_sim_004730.png', 'json_sim_004735.png', 'json_sim_004740.png', 'json_sim_004745.png', 'json_sim_004750.png', 'json_sim_004755.png', 'json_sim_004760.png', 'json_sim_004765.png', 'json_sim_004770.png', 'json_sim_004775.png', 'json_sim_004780.png', 'json_sim_004785.png', 'json_sim_004790.png', 'json_sim_004795.png', 'json_sim_004800.png', 'json_sim_004805.png', 'json_sim_004810.png', 'json_sim_004815.png', 'json_sim_004820.png', 'json_sim_004825.png', 'json_sim_004830.png', 'json_sim_004835.png', 'json_sim_004840.png', 'json_sim_004845.png', 'json_sim_004850.png', 'json_sim_004855.png', 'json_sim_004860.png', 'json_sim_004865.png', 'json_sim_004870.png', 'json_sim_004875.png', 'json_sim_004880.png', 'json_sim_004885.png', 'json_sim_004890.png', 'json_sim_004895.png', 'json_sim_004900.png', 'json_sim_004905.png', 'json_sim_004910.png', 'json_sim_004915.png', 'json_sim_004920.png', 'json_sim_004925.png', 'json_sim_004930.png', 'json_sim_004935.png', 'json_sim_004940.png', 'json_sim_004945.png', 'json_sim_004950.png', 'json_sim_004955.png', 'json_sim_004960.png', 'json_sim_004965.png', 'json_sim_004970.png', 'json_sim_004975.png', 'json_sim_004980.png', 'json_sim_004985.png', 'json_sim_004990.png', 'json_sim_004995.png', 'json_sim_005000.png', 'json_sim_005005.png', 'json_sim_005010.png', 'json_sim_005015.png', 'json_sim_005020.png', 'json_sim_005025.png', 'json_sim_005030.png', 'json_sim_005035.png', 'json_sim_005040.png', 'json_sim_005045.png', 'json_sim_005050.png', 'json_sim_005055.png', 'json_sim_005060.png', 'json_sim_005065.png', 'json_sim_005070.png', 'json_sim_005075.png', 'json_sim_005080.png', 'json_sim_005085.png', 'json_sim_005090.png', 'json_sim_005095.png', 'json_sim_005100.png', 'json_sim_005105.png', 'json_sim_005110.png', 'json_sim_005115.png', 'json_sim_005120.png', 'json_sim_005125.png', 'json_sim_005130.png', 'json_sim_005135.png', 'json_sim_005140.png', 'json_sim_005145.png', 'json_sim_005150.png', 'json_sim_005155.png', 'json_sim_005160.png', 'json_sim_005165.png', 'json_sim_005170.png', 'json_sim_005175.png', 'json_sim_005180.png', 'json_sim_005185.png', 'json_sim_005190.png', 'json_sim_005195.png', 'json_sim_005200.png', 'json_sim_005205.png', 'json_sim_005210.png', 'json_sim_005215.png', 'json_sim_005220.png', 'json_sim_005225.png', 'json_sim_005230.png', 'json_sim_005235.png', 'json_sim_005240.png', 'json_sim_005245.png', 'json_sim_005250.png', 'json_sim_005255.png', 'json_sim_005260.png', 'json_sim_005265.png', 'json_sim_005270.png', 'json_sim_005275.png', 'json_sim_005280.png', 'json_sim_005285.png', 'json_sim_005290.png', 'json_sim_005295.png', 'json_sim_005300.png', 'json_sim_005305.png', 'json_sim_005310.png', 'json_sim_005315.png', 'json_sim_005320.png', 'json_sim_005325.png', 'json_sim_005330.png', 'json_sim_005335.png', 'json_sim_005340.png', 'json_sim_005345.png', 'json_sim_005350.png', 'json_sim_005355.png', 'json_sim_005360.png', 'json_sim_005365.png', 'json_sim_005370.png', 'json_sim_005375.png', 'json_sim_005380.png', 'json_sim_005385.png', 'json_sim_005390.png', 'json_sim_005395.png', 'json_sim_005400.png', 'json_sim_005405.png', 'json_sim_005410.png', 'json_sim_005415.png', 'json_sim_005420.png', 'json_sim_005425.png', 'json_sim_005430.png', 'json_sim_005435.png', 'json_sim_005440.png', 'json_sim_005445.png', 'json_sim_005450.png', 'json_sim_005455.png', 'json_sim_005460.png', 'json_sim_005465.png', 'json_sim_005470.png', 'json_sim_005475.png', 'json_sim_005480.png', 'json_sim_005485.png', 'json_sim_005490.png', 'json_sim_005495.png', 'json_sim_005500.png', 'json_sim_005505.png', 'json_sim_005510.png', 'json_sim_005515.png', 'json_sim_005520.png', 'json_sim_005525.png', 'json_sim_005530.png', 'json_sim_005535.png', 'json_sim_005540.png', 'json_sim_005545.png', 'json_sim_005550.png', 'json_sim_005555.png', 'json_sim_005560.png', 'json_sim_005565.png', 'json_sim_005570.png', 'json_sim_005575.png', 'json_sim_005580.png', 'json_sim_005585.png', 'json_sim_005590.png', 'json_sim_005595.png', 'json_sim_005600.png', 'json_sim_005605.png', 'json_sim_005610.png', 'json_sim_005615.png', 'json_sim_005620.png', 'json_sim_005625.png', 'json_sim_005630.png', 'json_sim_005635.png', 'json_sim_005640.png', 'json_sim_005645.png', 'json_sim_005650.png', 'json_sim_005655.png', 'json_sim_005660.png', 'json_sim_005665.png', 'json_sim_005670.png', 'json_sim_005675.png', 'json_sim_005680.png', 'json_sim_005685.png', 'json_sim_005690.png', 'json_sim_005695.png', 'json_sim_005700.png', 'json_sim_005705.png', 'json_sim_005710.png', 'json_sim_005715.png', 'json_sim_005720.png', 'json_sim_005725.png', 'json_sim_005730.png', 'json_sim_005735.png', 'json_sim_005740.png', 'json_sim_005745.png', 'json_sim_005750.png', 'json_sim_005755.png', 'json_sim_005760.png', 'json_sim_005765.png', 'json_sim_005770.png', 'json_sim_005775.png', 'json_sim_005780.png', 'json_sim_005785.png', 'json_sim_005790.png', 'json_sim_005795.png', 'json_sim_005800.png', 'json_sim_005805.png', 'json_sim_005810.png', 'json_sim_005815.png', 'json_sim_005820.png', 'json_sim_005825.png', 'json_sim_005830.png', 'json_sim_005835.png', 'json_sim_005840.png', 'json_sim_005845.png', 'json_sim_005850.png', 'json_sim_005855.png', 'json_sim_005860.png', 'json_sim_005865.png', 'json_sim_005870.png', 'json_sim_005875.png', 'json_sim_005880.png', 'json_sim_005885.png', 'json_sim_005890.png', 'json_sim_005895.png', 'json_sim_005900.png', 'json_sim_005905.png', 'json_sim_005910.png', 'json_sim_005915.png', 'json_sim_005920.png', 'json_sim_005925.png', 'json_sim_005930.png', 'json_sim_005935.png', 'json_sim_005940.png', 'json_sim_005945.png', 'json_sim_005950.png', 'json_sim_005955.png', 'json_sim_005960.png', 'json_sim_005965.png', 'json_sim_005970.png', 'json_sim_005975.png', 'json_sim_005980.png', 'json_sim_005985.png', 'json_sim_005990.png', 'json_sim_005995.png', 'json_sim_006000.png', 'json_sim_006005.png', 'json_sim_006010.png', 'json_sim_006015.png', 'json_sim_006020.png', 'json_sim_006025.png', 'json_sim_006030.png', 'json_sim_006035.png', 'json_sim_006040.png', 'json_sim_006045.png', 'json_sim_006050.png', 'json_sim_006055.png', 'json_sim_006060.png', 'json_sim_006065.png', 'json_sim_006070.png', 'json_sim_006075.png', 'json_sim_006080.png', 'json_sim_006085.png', 'json_sim_006090.png', 'json_sim_006095.png', 'json_sim_006100.png', 'json_sim_006105.png', 'json_sim_006110.png', 'json_sim_006115.png', 'json_sim_006120.png', 'json_sim_006125.png', 'json_sim_006130.png', 'json_sim_006135.png', 'json_sim_006140.png', 'json_sim_006145.png', 'json_sim_006150.png', 'json_sim_006155.png', 'json_sim_006160.png', 'json_sim_006165.png', 'json_sim_006170.png', 'json_sim_006175.png', 'json_sim_006180.png', 'json_sim_006185.png', 'json_sim_006190.png', 'json_sim_006195.png', 'json_sim_006200.png', 'json_sim_006205.png', 'json_sim_006210.png', 'json_sim_006215.png', 'json_sim_006220.png', 'json_sim_006225.png', 'json_sim_006230.png', 'json_sim_006235.png', 'json_sim_006240.png', 'json_sim_006245.png', 'json_sim_006250.png', 'json_sim_006255.png', 'json_sim_006260.png', 'json_sim_006265.png', 'json_sim_006270.png', 'json_sim_006275.png', 'json_sim_006280.png', 'json_sim_006285.png', 'json_sim_006290.png', 'json_sim_006295.png', 'json_sim_006300.png', 'json_sim_006305.png', 'json_sim_006310.png', 'json_sim_006315.png', 'json_sim_006320.png', 'json_sim_006325.png', 'json_sim_006330.png', 'json_sim_006335.png', 'json_sim_006340.png', 'json_sim_006345.png', 'json_sim_006350.png', 'json_sim_006355.png', 'json_sim_006360.png', 'json_sim_006365.png', 'json_sim_006370.png', 'json_sim_006375.png', 'json_sim_006380.png', 'json_sim_006385.png', 'json_sim_006390.png', 'json_sim_006395.png', 'json_sim_006400.png', 'json_sim_006405.png', 'json_sim_006410.png', 'json_sim_006415.png', 'json_sim_006420.png', 'json_sim_006425.png', 'json_sim_006430.png', 'json_sim_006435.png', 'json_sim_006440.png', 'json_sim_006445.png', 'json_sim_006450.png', 'json_sim_006455.png', 'json_sim_006460.png', 'json_sim_006465.png', 'json_sim_006470.png', 'json_sim_006475.png', 'json_sim_006480.png', 'json_sim_006485.png', 'json_sim_006490.png', 'json_sim_006495.png', 'json_sim_006500.png', 'json_sim_006505.png', 'json_sim_006510.png', 'json_sim_006515.png', 'json_sim_006520.png', 'json_sim_006525.png', 'json_sim_006530.png', 'json_sim_006535.png', 'json_sim_006540.png', 'json_sim_006545.png', 'json_sim_006550.png', 'json_sim_006555.png', 'json_sim_006560.png', 'json_sim_006565.png', 'json_sim_006570.png', 'json_sim_006575.png', 'json_sim_006580.png', 'json_sim_006585.png', 'json_sim_006590.png', 'json_sim_006595.png', 'json_sim_006600.png', 'json_sim_006605.png', 'json_sim_006610.png', 'json_sim_006615.png', 'json_sim_006620.png', 'json_sim_006625.png', 'json_sim_006630.png', 'json_sim_006635.png', 'json_sim_006640.png', 'json_sim_006645.png', 'json_sim_006650.png', 'json_sim_006655.png', 'json_sim_006660.png', 'json_sim_006665.png', 'json_sim_006670.png', 'json_sim_006675.png', 'json_sim_006680.png', 'json_sim_006685.png', 'json_sim_006690.png', 'json_sim_006695.png', 'json_sim_006700.png', 'json_sim_006705.png', 'json_sim_006710.png', 'json_sim_006715.png', 'json_sim_006720.png', 'json_sim_006725.png', 'json_sim_006730.png', 'json_sim_006735.png', 'json_sim_006740.png', 'json_sim_006745.png', 'json_sim_006750.png', 'json_sim_006755.png', 'json_sim_006760.png', 'json_sim_006765.png', 'json_sim_006770.png', 'json_sim_006775.png', 'json_sim_006780.png', 'json_sim_006785.png', 'json_sim_006790.png', 'json_sim_006795.png', 'json_sim_006800.png', 'json_sim_006805.png', 'json_sim_006810.png', 'json_sim_006815.png', 'json_sim_006820.png', 'json_sim_006825.png', 'json_sim_006830.png', 'json_sim_006835.png', 'json_sim_006840.png', 'json_sim_006845.png', 'json_sim_006850.png', 'json_sim_006855.png', 'json_sim_006860.png', 'json_sim_006865.png', 'json_sim_006870.png', 'json_sim_006875.png', 'json_sim_006880.png', 'json_sim_006885.png', 'json_sim_006890.png', 'json_sim_006895.png', 'json_sim_006900.png', 'json_sim_006905.png', 'json_sim_006910.png', 'json_sim_006915.png', 'json_sim_006920.png', 'json_sim_006925.png', 'json_sim_006930.png', 'json_sim_006935.png', 'json_sim_006940.png', 'json_sim_006945.png', 'json_sim_006950.png', 'json_sim_006955.png', 'json_sim_006960.png', 'json_sim_006965.png', 'json_sim_006970.png', 'json_sim_006975.png', 'json_sim_006980.png', 'json_sim_006985.png', 'json_sim_006990.png', 'json_sim_006995.png', 'json_sim_007000.png', 'json_sim_007005.png', 'json_sim_007010.png', 'json_sim_007015.png', 'json_sim_007020.png', 'json_sim_007025.png', 'json_sim_007030.png', 'json_sim_007035.png', 'json_sim_007040.png', 'json_sim_007045.png', 'json_sim_007050.png', 'json_sim_007055.png', 'json_sim_007060.png', 'json_sim_007065.png', 'json_sim_007070.png', 'json_sim_007075.png', 'json_sim_007080.png', 'json_sim_007085.png', 'json_sim_007090.png', 'json_sim_007095.png', 'json_sim_007100.png', 'json_sim_007105.png', 'json_sim_007110.png', 'json_sim_007115.png', 'json_sim_007120.png', 'json_sim_007125.png', 'json_sim_007130.png', 'json_sim_007135.png', 'json_sim_007140.png', 'json_sim_007145.png', 'json_sim_007150.png', 'json_sim_007155.png', 'json_sim_007160.png', 'json_sim_007165.png', 'json_sim_007170.png', 'json_sim_007175.png', 'json_sim_007180.png', 'json_sim_007185.png', 'json_sim_007190.png', 'json_sim_007195.png', 'json_sim_007200.png', 'json_sim_007205.png', 'json_sim_007210.png', 'json_sim_007215.png', 'json_sim_007220.png', 'json_sim_007225.png', 'json_sim_007230.png', 'json_sim_007235.png', 'json_sim_007240.png', 'json_sim_007245.png', 'json_sim_007250.png', 'json_sim_007255.png', 'json_sim_007260.png', 'json_sim_007265.png', 'json_sim_007270.png', 'json_sim_007275.png', 'json_sim_007280.png', 'json_sim_007285.png', 'json_sim_007290.png', 'json_sim_007295.png', 'json_sim_007300.png', 'json_sim_007305.png', 'json_sim_007310.png', 'json_sim_007315.png', 'json_sim_007320.png', 'json_sim_007325.png', 'json_sim_007330.png', 'json_sim_007335.png', 'json_sim_007340.png', 'json_sim_007345.png', 'json_sim_007350.png', 'json_sim_007355.png', 'json_sim_007360.png', 'json_sim_007365.png', 'json_sim_007370.png', 'json_sim_007375.png', 'json_sim_007380.png', 'json_sim_007385.png', 'json_sim_007390.png', 'json_sim_007395.png', 'json_sim_007400.png', 'json_sim_007405.png', 'json_sim_007410.png', 'json_sim_007415.png', 'json_sim_007420.png', 'json_sim_007425.png', 'json_sim_007430.png', 'json_sim_007435.png', 'json_sim_007440.png', 'json_sim_007445.png', 'json_sim_007450.png', 'json_sim_007455.png', 'json_sim_007460.png', 'json_sim_007465.png', 'json_sim_007470.png', 'json_sim_007475.png', 'json_sim_007480.png', 'json_sim_007485.png', 'json_sim_007490.png', 'json_sim_007495.png', 'json_sim_007500.png', 'json_sim_007505.png', 'json_sim_007510.png', 'json_sim_007515.png', 'json_sim_007520.png', 'json_sim_007525.png', 'json_sim_007530.png', 'json_sim_007535.png', 'json_sim_007540.png', 'json_sim_007545.png', 'json_sim_007550.png', 'json_sim_007555.png', 'json_sim_007560.png', 'json_sim_007565.png', 'json_sim_007570.png', 'json_sim_007575.png', 'json_sim_007580.png', 'json_sim_007585.png', 'json_sim_007590.png', 'json_sim_007595.png', 'json_sim_007600.png', 'json_sim_007605.png', 'json_sim_007610.png', 'json_sim_007615.png', 'json_sim_007620.png', 'json_sim_007625.png', 'json_sim_007630.png', 'json_sim_007635.png', 'json_sim_007640.png', 'json_sim_007645.png', 'json_sim_007650.png', 'json_sim_007655.png', 'json_sim_007660.png', 'json_sim_007665.png', 'json_sim_007670.png', 'json_sim_007675.png', 'json_sim_007680.png', 'json_sim_007685.png', 'json_sim_007690.png', 'json_sim_007695.png', 'json_sim_007700.png', 'json_sim_007705.png', 'json_sim_007710.png', 'json_sim_007715.png', 'json_sim_007720.png', 'json_sim_007725.png', 'json_sim_007730.png', 'json_sim_007735.png', 'json_sim_007740.png', 'json_sim_007745.png', 'json_sim_007750.png', 'json_sim_007755.png', 'json_sim_007760.png', 'json_sim_007765.png', 'json_sim_007770.png', 'json_sim_007775.png', 'json_sim_007780.png', 'json_sim_007785.png', 'json_sim_007790.png', 'json_sim_007795.png', 'json_sim_007800.png', 'json_sim_007805.png', 'json_sim_007810.png', 'json_sim_007815.png', 'json_sim_007820.png', 'json_sim_007825.png', 'json_sim_007830.png', 'json_sim_007835.png', 'json_sim_007840.png', 'json_sim_007845.png', 'json_sim_007850.png', 'json_sim_007855.png', 'json_sim_007860.png', 'json_sim_007865.png', 'json_sim_007870.png', 'json_sim_007875.png']\n",
      "Video generated successfully!\n"
     ]
    }
   ],
   "source": [
    "#25 frames per second\n",
    "# Function to generate video\n",
    "def generate_video():\n",
    "    image_folder = './json_plots/json_plots/'\n",
    "    video_name = 'new_json_sim.avi'\n",
    "\n",
    "    images = [img.split('/json_plots/json_plots/')[1] for img in np.sort(glob.glob('./json_plots/json_plots/*.png'))]\n",
    "    print(\"Images:\", images)\n",
    "\n",
    "    # Set frame from the first image\n",
    "    frame = cv2.imread(os.path.join(image_folder, images[0]))\n",
    "    height, width, layers = frame.shape\n",
    "\n",
    "    # Video writer to create .avi file\n",
    "    video = cv2.VideoWriter(video_name, cv2.VideoWriter_fourcc('a','v','c','1'), 25, (width, height)) #'a','v','c','1'\n",
    "\n",
    "    # Appending images to video\n",
    "    for image in images:\n",
    "        video.write(cv2.imread(os.path.join(image_folder, image)))\n",
    "\n",
    "    # Release the video file\n",
    "    video.release()\n",
    "    cv2.destroyAllWindows()\n",
    "    print(\"Video generated successfully!\")\n",
    "\n",
    "# Calling the function to generate the video\n",
    "generate_video() "
   ]
  },
  {
   "cell_type": "markdown",
   "id": "d2ecd556-5b81-4b89-a28d-0ea72f151fbb",
   "metadata": {},
   "source": [
    "import moviepy\n",
    "#from moviepy.editor import concatenate_audioclips, AudioFileClip\n",
    "#clip = [moviepy.AudioFileClip(i,fps=44100) for i in audio_clip_paths]\n",
    "videoclip = moviepy.VideoFileClip(\"json_no_axis.mp4\")\n",
    "audioclip = moviepy.AudioFileClip(\"/Users/cfilion/Developer/sonification/try1.wav\", fps=44100)\n",
    "\n",
    "videoclip.audio = audioclip\n",
    "videoclip.write_videofile(\"stacked_redux.mp4\",audio_codec=\"aac\", fps=24)"
   ]
  },
  {
   "cell_type": "code",
   "execution_count": 9,
   "id": "b6b4d59b-b11d-41ed-afeb-cda3d01dbfce",
   "metadata": {},
   "outputs": [
    {
     "data": {
      "text/plain": [
       "1560"
      ]
     },
     "execution_count": 9,
     "metadata": {},
     "output_type": "execute_result"
    }
   ],
   "source": [
    "len(np.sort(glob.glob('./json_plots/json_plots/*.png')))"
   ]
  },
  {
   "cell_type": "code",
   "execution_count": 8,
   "id": "c5af2da2-1bd2-4d90-aacc-957335fc367c",
   "metadata": {},
   "outputs": [
    {
     "name": "stdout",
     "output_type": "stream",
     "text": [
      "{'video_found': True, 'audio_found': False, 'metadata': {'major_brand': 'isom', 'minor_version': '512', 'compatible_brands': 'isomiso2avc1mp41', 'encoder': 'Lavf61.7.100'}, 'inputs': [{'streams': [{'input_number': 0, 'stream_number': 0, 'stream_type': 'video', 'language': None, 'default': True, 'size': [15080, 14984], 'bitrate': 697608, 'fps': 25.0, 'codec_name': 'h264', 'profile': '(High)', 'metadata': {'Metadata': '', 'handler_name': 'VideoHandler', 'vendor_id': '[0][0][0][0]', 'encoder': 'Lavc61.19.101 libx264'}}], 'input_number': 0}], 'duration': 63.0, 'bitrate': 697611, 'start': 0.0, 'default_video_input_number': 0, 'default_video_stream_number': 0, 'video_codec_name': 'h264', 'video_profile': '(High)', 'video_size': [15080, 14984], 'video_bitrate': 697608, 'video_fps': 25.0, 'video_duration': 63.0, 'video_n_frames': 1575}\n",
      "/Users/cfilion/Developer/sonification/venv/lib/python3.12/site-packages/imageio_ffmpeg/binaries/ffmpeg-macos-aarch64-v7.1 -i json_highres.mp4 -loglevel error -f image2pipe -vf scale=15080:14984 -sws_flags bicubic -pix_fmt rgb24 -vcodec rawvideo -\n",
      "MoviePy - Building video stacked_redux_calmvibes_highres.mp4.\n",
      "MoviePy - Writing audio in stacked_redux_calmvibes_highresTEMP_MPY_wvf_snd.mp4\n"
     ]
    },
    {
     "name": "stderr",
     "output_type": "stream",
     "text": [
      "                                                                                                                                                    \r"
     ]
    },
    {
     "name": "stdout",
     "output_type": "stream",
     "text": [
      "MoviePy - Done.\n",
      "MoviePy - Writing video stacked_redux_calmvibes_highres.mp4\n",
      "\n"
     ]
    },
    {
     "name": "stderr",
     "output_type": "stream",
     "text": [
      "                                                                                                                                                    \r"
     ]
    },
    {
     "name": "stdout",
     "output_type": "stream",
     "text": [
      "MoviePy - Done !\n",
      "MoviePy - video ready stacked_redux_calmvibes_highres.mp4\n"
     ]
    }
   ],
   "source": [
    "#from moviepy.editor import concatenate_audioclips, AudioFileClip\n",
    "#clip = [moviepy.AudioFileClip(i,fps=44100) for i in audio_clip_paths]\n",
    "import moviepy\n",
    "videoclip = moviepy.VideoFileClip(\"json_highres.mp4\")\n",
    "audioclip = moviepy.AudioFileClip(\"/Users/cfilion/Developer/sonification/calmvibes_synth_galaxy.wav\", fps=44100)\n",
    "\n",
    "videoclip.audio = audioclip\n",
    "videoclip.write_videofile(\"stacked_redux_calmvibes_highres.mp4\",audio_codec=\"aac\", fps=25) #\""
   ]
  },
  {
   "cell_type": "code",
   "execution_count": 13,
   "id": "01fdfbbc-a5e8-4098-9d9b-70852df7f013",
   "metadata": {},
   "outputs": [
    {
     "name": "stdout",
     "output_type": "stream",
     "text": [
      "{'video_found': True, 'audio_found': False, 'metadata': {'major_brand': 'isom', 'minor_version': '512', 'compatible_brands': 'isomiso2avc1mp41', 'encoder': 'Lavf61.7.100'}, 'inputs': [{'streams': [{'input_number': 0, 'stream_number': 0, 'stream_type': 'video', 'language': None, 'default': True, 'size': [15080, 14984], 'bitrate': 697608, 'fps': 25.0, 'codec_name': 'h264', 'profile': '(High)', 'metadata': {'Metadata': '', 'handler_name': 'VideoHandler', 'vendor_id': '[0][0][0][0]', 'encoder': 'Lavc61.19.101 libx264'}}], 'input_number': 0}], 'duration': 63.0, 'bitrate': 697611, 'start': 0.0, 'default_video_input_number': 0, 'default_video_stream_number': 0, 'video_codec_name': 'h264', 'video_profile': '(High)', 'video_size': [15080, 14984], 'video_bitrate': 697608, 'video_fps': 25.0, 'video_duration': 63.0, 'video_n_frames': 1575}\n",
      "/Users/cfilion/Developer/sonification/venv/lib/python3.12/site-packages/imageio_ffmpeg/binaries/ffmpeg-macos-aarch64-v7.1 -i json_highres.mp4 -loglevel error -f image2pipe -vf scale=15080:14984 -sws_flags bicubic -pix_fmt rgb24 -vcodec rawvideo -\n",
      "MoviePy - Building video stacked_redux_wood_highres.mp4.\n",
      "MoviePy - Writing audio in stacked_redux_wood_highresTEMP_MPY_wvf_snd.mp4\n"
     ]
    },
    {
     "name": "stderr",
     "output_type": "stream",
     "text": [
      "                                                                                                                                                    \r"
     ]
    },
    {
     "name": "stdout",
     "output_type": "stream",
     "text": [
      "MoviePy - Done.\n",
      "MoviePy - Writing video stacked_redux_wood_highres.mp4\n",
      "\n"
     ]
    },
    {
     "name": "stderr",
     "output_type": "stream",
     "text": [
      "                                                                                                                                                    \r"
     ]
    },
    {
     "name": "stdout",
     "output_type": "stream",
     "text": [
      "MoviePy - Done !\n",
      "MoviePy - video ready stacked_redux_wood_highres.mp4\n"
     ]
    }
   ],
   "source": [
    "#from moviepy.editor import concatenate_audioclips, AudioFileClip\n",
    "#clip = [moviepy.AudioFileClip(i,fps=44100) for i in audio_clip_paths]\n",
    "import moviepy\n",
    "videoclip = moviepy.VideoFileClip(\"json_highres.mp4\")\n",
    "audioclip = moviepy.AudioFileClip(\"/Users/cfilion/Developer/sonification/wood_drum_galaxy.wav\", fps=44100)\n",
    "\n",
    "videoclip.audio = audioclip\n",
    "videoclip.write_videofile(\"stacked_redux_wood_highres.mp4\",audio_codec=\"aac\", fps=25)"
   ]
  },
  {
   "cell_type": "markdown",
   "id": "48aae2cb-6b09-47e1-95e4-3e17efe2e008",
   "metadata": {},
   "source": [
    "#from moviepy.editor import concatenate_audioclips, AudioFileClip\n",
    "#clip = [moviepy.AudioFileClip(i,fps=44100) for i in audio_clip_paths]\n",
    "videoclip = moviepy.VideoFileClip(\"json_no_axis.mp4\")\n",
    "audioclip = moviepy.AudioFileClip(\"/Users/cfilion/Developer/sonification/wood_drum_galaxy.mp3\", fps=44100)\n",
    "\n",
    "videoclip.audio = audioclip\n",
    "videoclip.write_videofile(\"stacked_redux_wood.mp4\",audio_codec=\"aac\", fps=24) #\""
   ]
  },
  {
   "cell_type": "markdown",
   "id": "5daad74f-868d-447e-b413-0321d40f71d9",
   "metadata": {},
   "source": [
    "#from moviepy.editor import concatenate_audioclips, AudioFileClip\n",
    "#clip = [moviepy.AudioFileClip(i,fps=44100) for i in audio_clip_paths]\n",
    "videoclip = moviepy.VideoFileClip(\"json_no_axis.mp4\")\n",
    "audioclip = moviepy.AudioFileClip(\"/Users/cfilion/Developer/sonification/dune_synth_galaxy.wav\", fps=44100)\n",
    "\n",
    "videoclip.audio = audioclip\n",
    "videoclip.write_videofile(\"stacked_redux_dune.mp4\",audio_codec=\"aac\", fps=24) #\""
   ]
  },
  {
   "cell_type": "code",
   "execution_count": 12,
   "id": "ee8bfbc7-4045-4632-891c-f86860446367",
   "metadata": {},
   "outputs": [
    {
     "name": "stdout",
     "output_type": "stream",
     "text": [
      "{'video_found': True, 'audio_found': False, 'metadata': {'major_brand': 'isom', 'minor_version': '512', 'compatible_brands': 'isomiso2avc1mp41', 'encoder': 'Lavf61.7.100'}, 'inputs': [{'streams': [{'input_number': 0, 'stream_number': 0, 'stream_type': 'video', 'language': None, 'default': True, 'size': [15080, 14984], 'bitrate': 697608, 'fps': 25.0, 'codec_name': 'h264', 'profile': '(High)', 'metadata': {'Metadata': '', 'handler_name': 'VideoHandler', 'vendor_id': '[0][0][0][0]', 'encoder': 'Lavc61.19.101 libx264'}}], 'input_number': 0}], 'duration': 63.0, 'bitrate': 697611, 'start': 0.0, 'default_video_input_number': 0, 'default_video_stream_number': 0, 'video_codec_name': 'h264', 'video_profile': '(High)', 'video_size': [15080, 14984], 'video_bitrate': 697608, 'video_fps': 25.0, 'video_duration': 63.0, 'video_n_frames': 1575}\n",
      "/Users/cfilion/Developer/sonification/venv/lib/python3.12/site-packages/imageio_ffmpeg/binaries/ffmpeg-macos-aarch64-v7.1 -i json_highres.mp4 -loglevel error -f image2pipe -vf scale=15080:14984 -sws_flags bicubic -pix_fmt rgb24 -vcodec rawvideo -\n",
      "MoviePy - Building video stacked_redux_80s_highres.mp4.\n",
      "MoviePy - Writing audio in stacked_redux_80s_highresTEMP_MPY_wvf_snd.mp4\n"
     ]
    },
    {
     "name": "stderr",
     "output_type": "stream",
     "text": [
      "                                                                                                                                                    \r"
     ]
    },
    {
     "name": "stdout",
     "output_type": "stream",
     "text": [
      "MoviePy - Done.\n",
      "MoviePy - Writing video stacked_redux_80s_highres.mp4\n",
      "\n"
     ]
    },
    {
     "name": "stderr",
     "output_type": "stream",
     "text": [
      "                                                                                                                                                    \r"
     ]
    },
    {
     "name": "stdout",
     "output_type": "stream",
     "text": [
      "MoviePy - Done !\n",
      "MoviePy - video ready stacked_redux_80s_highres.mp4\n"
     ]
    }
   ],
   "source": [
    "#from moviepy.editor import concatenate_audioclips, AudioFileClip\n",
    "#clip = [moviepy.AudioFileClip(i,fps=44100) for i in audio_clip_paths]\n",
    "videoclip = moviepy.VideoFileClip(\"json_highres.mp4\")\n",
    "audioclip = moviepy.AudioFileClip(\"/Users/cfilion/Developer/sonification/80s_synth_galaxy.wav\", fps=44100)\n",
    "\n",
    "videoclip.audio = audioclip\n",
    "videoclip.write_videofile(\"stacked_redux_80s_highres.mp4\",audio_codec=\"aac\", fps=25)"
   ]
  },
  {
   "cell_type": "code",
   "execution_count": 426,
   "id": "74b1d580-f7ca-4046-b3a1-5f790ed1ed9e",
   "metadata": {},
   "outputs": [
    {
     "name": "stderr",
     "output_type": "stream",
     "text": [
      "frame_index:  29%|████████████████████████▏                                                          | 558/1919 [1:03:00<00:19, 68.28it/s, now=None]"
     ]
    },
    {
     "name": "stdout",
     "output_type": "stream",
     "text": [
      "{'video_found': True, 'audio_found': False, 'metadata': {'major_brand': 'isom', 'minor_version': '512', 'compatible_brands': 'isomiso2mp41', 'encoder': 'Lavf61.7.100'}, 'inputs': [{'streams': [{'input_number': 0, 'stream_number': 0, 'stream_type': 'video', 'language': None, 'default': True, 'size': [534, 530], 'bitrate': 5273, 'fps': 25.0, 'codec_name': 'mpeg4', 'profile': '(Simple Profile)', 'metadata': {'Metadata': '', 'handler_name': 'VideoHandler', 'vendor_id': '[0][0][0][0]', 'encoder': 'Lavc61.19.101 mpeg4'}}], 'input_number': 0}], 'duration': 63.0, 'bitrate': 5274, 'start': 0.0, 'default_video_input_number': 0, 'default_video_stream_number': 0, 'video_codec_name': 'mpeg4', 'video_profile': '(Simple Profile)', 'video_size': [534, 530], 'video_bitrate': 5273, 'video_fps': 25.0, 'video_duration': 63.0, 'video_n_frames': 1575}\n",
      "/Users/cfilion/Developer/sonification/venv/lib/python3.12/site-packages/imageio_ffmpeg/binaries/ffmpeg-macos-aarch64-v7.1 -i json_no_axis.mp4 -loglevel error -f image2pipe -vf scale=534:530 -sws_flags bicubic -pix_fmt rgb24 -vcodec rawvideo -\n",
      "MoviePy - Building video stacked_redux_calm.mp4.\n",
      "MoviePy - Writing audio in stacked_redux_calmTEMP_MPY_wvf_snd.mp4\n"
     ]
    },
    {
     "name": "stderr",
     "output_type": "stream",
     "text": [
      "\n",
      "chunk:   0%|                                                                                                     | 0/1391 [00:00<?, ?it/s, now=None]\u001b[A\n",
      "chunk:  10%|████████▌                                                                                | 134/1391 [00:00<00:00, 1309.83it/s, now=None]\u001b[A\n",
      "chunk:  20%|██████████████████                                                                       | 282/1391 [00:00<00:00, 1399.50it/s, now=None]\u001b[A\n",
      "chunk:  35%|███████████████████████████████▏                                                         | 488/1391 [00:00<00:00, 1697.99it/s, now=None]\u001b[A\n",
      "chunk:  49%|███████████████████████████████████████████▋                                             | 682/1391 [00:00<00:00, 1792.50it/s, now=None]\u001b[A\n",
      "chunk:  64%|████████████████████████████████████████████████████████▊                                | 888/1391 [00:00<00:00, 1879.63it/s, now=None]\u001b[A\n",
      "chunk:  80%|██████████████████████████████████████████████████████████████████████▏                 | 1110/1391 [00:00<00:00, 1992.53it/s, now=None]\u001b[A\n",
      "chunk:  96%|████████████████████████████████████████████████████████████████████████████████████▋   | 1338/1391 [00:00<00:00, 2068.79it/s, now=None]\u001b[A\n",
      "frame_index:  29%|████████████████████████▏                                                          | 558/1919 [1:03:01<00:19, 68.28it/s, now=None]\u001b[A"
     ]
    },
    {
     "name": "stdout",
     "output_type": "stream",
     "text": [
      "MoviePy - Done.\n",
      "MoviePy - Writing video stacked_redux_calm.mp4\n",
      "\n"
     ]
    },
    {
     "name": "stderr",
     "output_type": "stream",
     "text": [
      "\n",
      "frame_index:   0%|                                                                                               | 0/1512 [00:00<?, ?it/s, now=None]\u001b[A\n",
      "frame_index:   7%|█████▊                                                                             | 106/1512 [00:00<00:01, 1055.06it/s, now=None]\u001b[A\n",
      "frame_index:  14%|███████████▊                                                                        | 212/1512 [00:00<00:01, 909.83it/s, now=None]\u001b[A\n",
      "frame_index:  20%|████████████████▉                                                                   | 305/1512 [00:00<00:01, 908.14it/s, now=None]\u001b[A\n",
      "frame_index:  27%|██████████████████████▎                                                             | 402/1512 [00:00<00:01, 930.56it/s, now=None]\u001b[A\n",
      "frame_index:  33%|███████████████████████████▌                                                        | 496/1512 [00:00<00:01, 925.56it/s, now=None]\u001b[A\n",
      "frame_index:  39%|█████████████████████████████████                                                   | 594/1512 [00:00<00:00, 943.10it/s, now=None]\u001b[A\n",
      "frame_index:  46%|██████████████████████████████████████▎                                             | 689/1512 [00:00<00:00, 903.12it/s, now=None]\u001b[A\n",
      "frame_index:  52%|███████████████████████████████████████████▎                                        | 780/1512 [00:00<00:00, 856.49it/s, now=None]\u001b[A\n",
      "frame_index:  57%|████████████████████████████████████████████████▏                                   | 867/1512 [00:01<00:00, 779.92it/s, now=None]\u001b[A\n",
      "frame_index:  64%|█████████████████████████████████████████████████████▍                              | 961/1512 [00:01<00:00, 821.94it/s, now=None]\u001b[A\n",
      "frame_index:  69%|█████████████████████████████████████████████████████████▌                         | 1048/1512 [00:01<00:00, 831.57it/s, now=None]\u001b[A\n",
      "frame_index:  76%|███████████████████████████████████████████████████████████████▏                   | 1151/1512 [00:01<00:00, 887.85it/s, now=None]\u001b[A\n",
      "frame_index:  82%|████████████████████████████████████████████████████████████████████               | 1241/1512 [00:01<00:00, 849.15it/s, now=None]\u001b[A\n",
      "frame_index:  88%|█████████████████████████████████████████████████████████████████████████▎         | 1336/1512 [00:01<00:00, 874.95it/s, now=None]\u001b[A\n",
      "frame_index:  94%|██████████████████████████████████████████████████████████████████████████████▏    | 1425/1512 [00:01<00:00, 862.12it/s, now=None]\u001b[A\n",
      "frame_index:  29%|████████████████████████▏                                                          | 558/1919 [1:03:02<00:19, 68.28it/s, now=None]\u001b[A"
     ]
    },
    {
     "name": "stdout",
     "output_type": "stream",
     "text": [
      "MoviePy - Done !\n",
      "MoviePy - video ready stacked_redux_calm.mp4\n"
     ]
    }
   ],
   "source": [
    "#from moviepy.editor import concatenate_audioclips, AudioFileClip\n",
    "#clip = [moviepy.AudioFileClip(i,fps=44100) for i in audio_clip_paths]\n",
    "videoclip = moviepy.VideoFileClip(\"json_no_axis.mp4\")\n",
    "audioclip = moviepy.AudioFileClip(\"/Users/cfilion/Developer/sonification/calmvibes_synth_galaxy.wav\", fps=44100)\n",
    "\n",
    "videoclip.audio = audioclip\n",
    "videoclip.write_videofile(\"stacked_redux_calm.mp4\",audio_codec=\"aac\", fps=24) #\""
   ]
  },
  {
   "cell_type": "code",
   "execution_count": 397,
   "id": "b674cadf-1a46-49b2-b3f4-770b70380f8e",
   "metadata": {},
   "outputs": [
    {
     "data": {
      "text/plain": [
       "np.str_('./json_plots/trimmed_json_plots/json_sim_007885.png')"
      ]
     },
     "execution_count": 397,
     "metadata": {},
     "output_type": "execute_result"
    }
   ],
   "source": [
    "im_list = np.sort(glob.glob('./json_plots/trimmed_json_plots/*.png'))\n",
    "im_list[1575]"
   ]
  },
  {
   "cell_type": "code",
   "execution_count": 364,
   "id": "06774973-4607-41ee-bd29-4ee23d3620c9",
   "metadata": {},
   "outputs": [],
   "source": [
    "mid = MidiFile()\n",
    "track = MidiTrack()\n",
    "mid.tracks.append(track)\n",
    "\n",
    "# Set the tempo (optional, here 120 BPM)\n",
    "tempo = mido.bpm2tempo(120)\n",
    "track.append(mido.MetaMessage('set_tempo', tempo=tempo))\n",
    "\n",
    "# Insert program change at the beginning of the track\n",
    "program_change = mido.Message('program_change', program=1, time=0) \n",
    "track.insert(0, program_change)\n",
    "notes = [40, 30, 25, 42]\n",
    "velocity = 127\n",
    "duration = 195\n",
    "i = 0\n",
    "track.append(Message('note_on', note=27, velocity=velocity, time=0))\n",
    "track.append(Message('note_on', note=50, velocity=velocity, time=0))# * 480))\n",
    "track.append(Message('note_on', note=100, velocity=velocity, time=0))\n",
    "track.append(Message('note_off', note=27, velocity=velocity, time=1000))\n",
    "track.append(Message('note_off', note=50, velocity=velocity, time=500))# * 480))\n",
    "track.append(Message('note_off', note=100, velocity=velocity, time=500))\n",
    "\n",
    "mid.save('try1.mid')"
   ]
  },
  {
   "cell_type": "code",
   "execution_count": 366,
   "id": "7d83aeec-e2ee-490a-9d80-fc6b4b1fc706",
   "metadata": {},
   "outputs": [
    {
     "name": "stdout",
     "output_type": "stream",
     "text": [
      "FluidSynth runtime version 2.4.6\n",
      "Copyright (C) 2000-2025 Peter Hanappe and others.\n",
      "Distributed under the LGPL license.\n",
      "SoundFont(R) is a registered trademark of Creative Technology Ltd.\n",
      "\n",
      "fluidsynth: warning: No preset found on channel 9 [bank=128 prog=0]\n",
      "Rendering audio to file 'try1.wav'..\n",
      "fluidsynth: warning: Instrument not found on channel 0 [bank=0 prog=1], substituted [bank=0 prog=0]\n"
     ]
    },
    {
     "data": {
      "text/plain": [
       "MidiTrack([\n",
       "  Message('program_change', channel=0, program=1, time=0),\n",
       "  MetaMessage('set_tempo', tempo=500000, time=0),\n",
       "  Message('note_on', channel=0, note=27, velocity=127, time=0),\n",
       "  Message('note_on', channel=0, note=50, velocity=127, time=0),\n",
       "  Message('note_on', channel=0, note=100, velocity=127, time=0),\n",
       "  Message('note_off', channel=0, note=27, velocity=127, time=1000),\n",
       "  Message('note_off', channel=0, note=50, velocity=127, time=500),\n",
       "  Message('note_off', channel=0, note=100, velocity=127, time=500)])"
      ]
     },
     "execution_count": 366,
     "metadata": {},
     "output_type": "execute_result"
    }
   ],
   "source": [
    "! fluidsynth \"op1_synth8_try2.sf2\" -F \"try1.wav\" try1.mid\n",
    "track"
   ]
  },
  {
   "cell_type": "markdown",
   "id": "dd3d0804-05dd-482b-bb1e-440bcde62bb4",
   "metadata": {},
   "source": [
    "# testing strauss again"
   ]
  },
  {
   "cell_type": "code",
   "execution_count": 285,
   "id": "a9554ee6-1602-4c88-be26-e4c66901902a",
   "metadata": {},
   "outputs": [],
   "source": [
    "import matplotlib.pyplot as plt\n",
    "import strauss\n",
    "from strauss.sonification import Sonification\n",
    "from strauss.sources import Objects\n",
    "from strauss.generator import Generator\n",
    "from strauss import channels\n",
    "from strauss.generator import Sampler\n",
    "from strauss.score import Score\n",
    "from strauss.generator import Synthesizer\n",
    "import IPython.display as ipd\n",
    "from strauss.sources import Events\n",
    "import os\n",
    "from scipy.interpolate import interp1d\n",
    "import numpy as np\n",
    "import copy\n",
    "import wavio as wav\n",
    "\n",
    "import matplotlib.pyplot as plt\n",
    "from PIL import Image\n",
    "import numpy as np\n",
    "import time"
   ]
  },
  {
   "cell_type": "code",
   "execution_count": 328,
   "id": "c1bcc74b-9fb2-4cef-b039-93cd015688e8",
   "metadata": {},
   "outputs": [
    {
     "name": "stdout",
     "output_type": "stream",
     "text": [
      "['G#1', 'C#1', 'F#1', 'B1', 'E1', 'A1', 'D1', 'G1', 'C1', 'F1', 'A#1', 'D#1']\n"
     ]
    },
    {
     "name": "stderr",
     "output_type": "stream",
     "text": [
      "100%|█████████████████████████████████████████████████████████████████████████████████████████████████████████████| 12/12 [00:00<00:00, 1381.26it/s]\n"
     ]
    },
    {
     "name": "stdout",
     "output_type": "stream",
     "text": [
      "Saved try0.wav\n",
      "['G#1', 'C#1', 'F#1', 'B1', 'E1', 'A1', 'D1', 'G1', 'C1', 'F1', 'A#1', 'D#1']\n"
     ]
    },
    {
     "name": "stderr",
     "output_type": "stream",
     "text": [
      "100%|█████████████████████████████████████████████████████████████████████████████████████████████████████████████| 12/12 [00:00<00:00, 1216.06it/s]\n"
     ]
    },
    {
     "name": "stdout",
     "output_type": "stream",
     "text": [
      "Saved try1.wav\n",
      "['G#1', 'C#1', 'F#1', 'B1', 'E1', 'A1', 'D1', 'G1', 'C1', 'F1', 'A#1', 'D#1']\n"
     ]
    },
    {
     "name": "stderr",
     "output_type": "stream",
     "text": [
      "100%|█████████████████████████████████████████████████████████████████████████████████████████████████████████████| 12/12 [00:00<00:00, 1827.05it/s]\n"
     ]
    },
    {
     "name": "stdout",
     "output_type": "stream",
     "text": [
      "Saved try2.wav\n",
      "['G#1', 'C#1', 'F#1', 'B1', 'E1', 'A1', 'D1', 'G1', 'C1', 'F1', 'A#1', 'D#1']\n"
     ]
    },
    {
     "name": "stderr",
     "output_type": "stream",
     "text": [
      "100%|█████████████████████████████████████████████████████████████████████████████████████████████████████████████| 12/12 [00:00<00:00, 1679.91it/s]\n"
     ]
    },
    {
     "name": "stdout",
     "output_type": "stream",
     "text": [
      "Saved try3.wav\n",
      "['G#1', 'C#1', 'F#1', 'B1', 'E1', 'A1', 'D1', 'G1', 'C1', 'F1', 'A#1', 'D#1']\n"
     ]
    },
    {
     "name": "stderr",
     "output_type": "stream",
     "text": [
      "100%|█████████████████████████████████████████████████████████████████████████████████████████████████████████████| 12/12 [00:00<00:00, 1288.80it/s]\n"
     ]
    },
    {
     "name": "stdout",
     "output_type": "stream",
     "text": [
      "Saved try4.wav\n",
      "['G#1', 'C#1', 'F#1', 'B1', 'E1', 'A1', 'D1', 'G1', 'C1', 'F1', 'A#1', 'D#1']\n"
     ]
    },
    {
     "name": "stderr",
     "output_type": "stream",
     "text": [
      "100%|██████████████████████████████████████████████████████████████████████████████████████████████████████████████| 12/12 [00:00<00:00, 849.49it/s]\n"
     ]
    },
    {
     "name": "stdout",
     "output_type": "stream",
     "text": [
      "Saved try5.wav\n",
      "['G#1', 'C#1', 'F#1', 'B1', 'E1', 'A1', 'D1', 'G1', 'C1', 'F1', 'A#1', 'D#1']\n"
     ]
    },
    {
     "name": "stderr",
     "output_type": "stream",
     "text": [
      "100%|██████████████████████████████████████████████████████████████████████████████████████████████████████████████| 12/12 [00:00<00:00, 890.21it/s]\n"
     ]
    },
    {
     "name": "stdout",
     "output_type": "stream",
     "text": [
      "Saved try6.wav\n",
      "['G#1', 'C#1', 'F#1', 'B1', 'E1', 'A1', 'D1', 'G1', 'C1', 'F1', 'A#1', 'D#1']\n"
     ]
    },
    {
     "name": "stderr",
     "output_type": "stream",
     "text": [
      "100%|██████████████████████████████████████████████████████████████████████████████████████████████████████████████| 12/12 [00:00<00:00, 972.59it/s]\n"
     ]
    },
    {
     "name": "stdout",
     "output_type": "stream",
     "text": [
      "Saved try7.wav\n",
      "['G#1', 'C#1', 'F#1', 'B1', 'E1', 'A1', 'D1', 'G1', 'C1', 'F1', 'A#1', 'D#1']\n"
     ]
    },
    {
     "name": "stderr",
     "output_type": "stream",
     "text": [
      "100%|█████████████████████████████████████████████████████████████████████████████████████████████████████████████| 12/12 [00:00<00:00, 1194.39it/s]\n"
     ]
    },
    {
     "name": "stdout",
     "output_type": "stream",
     "text": [
      "Saved try8.wav\n",
      "['G#1', 'C#1', 'F#1', 'B1', 'E1', 'A1', 'D1', 'G1', 'C1', 'F1', 'D#1']\n"
     ]
    },
    {
     "name": "stderr",
     "output_type": "stream",
     "text": [
      "100%|█████████████████████████████████████████████████████████████████████████████████████████████████████████████| 11/11 [00:00<00:00, 1057.10it/s]"
     ]
    },
    {
     "name": "stdout",
     "output_type": "stream",
     "text": [
      "Saved try9.wav\n"
     ]
    },
    {
     "name": "stderr",
     "output_type": "stream",
     "text": [
      "\n"
     ]
    }
   ],
   "source": [
    "test = Sampler(\"op1_synth8_try2.sf2\", sf_preset=0)\n",
    "test_generator = copy.copy(test)\n",
    "\n",
    "#fuck ok so it just.... yolos? what is happening with this, why are some of the chords higher than others even though\n",
    "#they should all be the same?\n",
    "\n",
    "for i in range(10):\n",
    "    note_dict = note_set[i]\n",
    "    print(note_dict)\n",
    "    score = Score([note_dict], .4)\n",
    "    data = {'pitch': np.ones(len(note_dict)),\n",
    "           'volume': np.ones(len(note_dict))} \n",
    "    sources = Events(data.keys())\n",
    "    sources.fromdict(data)\n",
    "    lims = {'time': ('0%','105%')}\n",
    "    sources.apply_mapping_functions(map_lims=lims)\n",
    "    \n",
    "    system = \"mono\"\n",
    "    soni = Sonification(score, sources, test_generator, system)\n",
    "    soni.render()\n",
    "    #soni.save('try2.wav')\n",
    "    soni.save('try'+str(i)+'.wav')"
   ]
  },
  {
   "cell_type": "code",
   "execution_count": null,
   "id": "2c47eba2-e138-4a74-8171-48f08124e239",
   "metadata": {},
   "outputs": [],
   "source": []
  }
 ],
 "metadata": {
  "kernelspec": {
   "display_name": "Python 3 (ipykernel)",
   "language": "python",
   "name": "python3"
  },
  "language_info": {
   "codemirror_mode": {
    "name": "ipython",
    "version": 3
   },
   "file_extension": ".py",
   "mimetype": "text/x-python",
   "name": "python",
   "nbconvert_exporter": "python",
   "pygments_lexer": "ipython3",
   "version": "3.12.10"
  }
 },
 "nbformat": 4,
 "nbformat_minor": 5
}
