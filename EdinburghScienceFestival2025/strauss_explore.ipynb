{
 "cells": [
  {
   "cell_type": "code",
   "execution_count": 1,
   "id": "cfeffce1-b466-43cf-bab9-ea06726cce7b",
   "metadata": {},
   "outputs": [],
   "source": [
    "#https://pypi.org/project/gTTS/\n",
    "%reload_ext autoreload \n",
    "%autoreload 2\n",
    "import matplotlib.pyplot as plt\n",
    "import strauss\n",
    "from strauss.sonification import Sonification\n",
    "from strauss.sources import Objects\n",
    "from strauss.generator import Generator\n",
    "from strauss import channels\n",
    "from strauss.generator import Sampler\n",
    "from strauss.score import Score\n",
    "from strauss.generator import Synthesizer\n",
    "import IPython.display as ipd\n",
    "from strauss.sources import Events\n",
    "import os\n",
    "from scipy.interpolate import interp1d\n",
    "import numpy as np\n",
    "import copy"
   ]
  },
  {
   "cell_type": "code",
   "execution_count": 190,
   "id": "5d3ed954-ebd9-4301-8310-d055f923f82d",
   "metadata": {},
   "outputs": [
    {
     "data": {
      "text/plain": [
       "'/Users/cfilion/Developer/sonification'"
      ]
     },
     "execution_count": 190,
     "metadata": {},
     "output_type": "execute_result"
    }
   ],
   "source": [
    "pwd"
   ]
  },
  {
   "cell_type": "code",
   "execution_count": 3,
   "id": "12890854-c2ce-4c33-9b8e-95c4330fa5da",
   "metadata": {},
   "outputs": [
    {
     "name": "stdout",
     "output_type": "stream",
     "text": [
      "valid 'sf_preset' not provided for soundfont file, available presets are:\n",
      "\n",
      "----------------------------------------\n",
      "1. \"Rotary Organ\"\n",
      "2. \"Warm Pad\"\n",
      "3. \"Steel Guitar\"\n",
      "4. \"Nylon Guitar\"\n",
      "5. \"Chateau Grand\"\n",
      "6. \"Chateau Grand+Pad\"\n",
      "7. \"Ch Grand+LowStrings\"\n",
      "8. \"Ch Grand+Strings\"\n",
      "9. \"Ch Grand+ChamberStr\"\n",
      "10. \"Full Strings Vel\"\n",
      "11. \"Chamber Strings\"\n",
      "12. \"Cello\"\n",
      "13. \"Rotary Slow\"\n",
      "14. \"Rotary Fast\"\n",
      "15. \"Rotary Var.Velocity\"\n",
      "16. \"Small Pipe Organ\"\n",
      "17. \"Pipe Organ Full\"\n",
      "18. \"Plein-jeu Organ Lge\"\n",
      "19. \"DX7 EP\"\n",
      "20. \"Small Plein-Jeu\"\n",
      "21. \"Flute Sml Plein-Jeu\"\n",
      "22. \"Pad Plein-jeu Large\"\n",
      "23. \"Flute 2\"\n",
      "24. \"FlutePad S Plein-Jeu\"\n",
      "25. \"Dark Chateau Grand\"\n",
      "26. \"DX7+Pad\"\n",
      "27. \"DX7+Low Strings\"\n",
      "28. \"Voyager-8\"\n",
      "29. \"Violin (all around)\"\n",
      "30. \"Two Violins\"\n",
      "31. \"Alto Sax\"\n",
      "32. \"Flute Expr+8 (SSO)\"\n",
      "33. \"Clean Guitar\"\n",
      "34. \"Jazz Guitar\"\n",
      "35. \"Chorus Guitar\"\n",
      "36. \"Trumpet\"\n",
      "37. \"Synth Strings\"\n",
      "38. \"Full Orchestra\"\n",
      "39. \"Banjo 5 String\"\n",
      "40. \"Moog Pad\"\n",
      "41. \"Moog 55 Rez\"\n",
      "42. \"Accordion\"\n",
      "43. \"Italian Accordion\"\n",
      "44. \"12 String Guitar\"\n",
      "45. \"Distortion Guitar\"\n",
      "46. \"Steel Low Vel Mute\"\n",
      "47. \"Steel Layered Mute\"\n",
      "48. \"Saw Wave\"\n",
      "49. \"Single Coil FX\"\n",
      "50. \"LP Twin Elec Gtr\"\n",
      "51. \"Single Coil FX Pick\"\n",
      "52. \"LP Twin Pick Gtr\"\n",
      "53. \"Distn Gtr Pick\"\n",
      "54. \"Single Coil Dry\"\n",
      "55. \"LP Twin Muted\"\n",
      "56. \"Single Coil Muted\"\n",
      "57. \"Jazz Guitar 2\"\n",
      "58. \"Overdrive Guitar\"\n",
      "59. \"Overdrive Gtr Pick\"\n",
      "60. \"Jazz Guitar 3\"\n",
      "61. \"Chateau Grand (copy)\"\n",
      "62. \"DX7 EP (copy)\"\n",
      "63. \"DynamicChateau(copy)\"\n",
      "64. \"Dyn Ch+Pad\"\n",
      "65. \"Dyn Ch+Low Strings\"\n",
      "66. \"Dyn Ch+ChamberStr\"\n",
      "67. \"Dyn Ch+Strings\"\n",
      "68. \"Dynamic ChateauGrand\"\n",
      "69. \"Studio Chateau Grand\"\n",
      "70. \"Wurlitzer EP\"\n",
      "71. \"Rhodes EP\"\n",
      "72. \"Rhodes Slow Trem\"\n",
      "73. \"Rhodes Med Trem\"\n",
      "74. \"Rhodes Fast Trem\"\n",
      "75. \"Rhodes Bell EP\"\n",
      "76. \"Rhodes Bell Slow Trm\"\n",
      "77. \"Rhodes Bell Fast Trm\"\n",
      "----------------------------------------\n",
      "\n",
      "By default choosing preset 1 (\"Rotary Organ\").\n",
      "\n",
      "Re-run 'Sampler' with the 'sf_preset' keyword argument to select a specific\n",
      "preset, ie. 'Sampler(\"ChateauGrand-Plus-Instruments-bs16i-v4.sf2\",sf_preset=N)',\n",
      "where N is an integer from 1-77.\n",
      "\n"
     ]
    },
    {
     "data": {
      "text/plain": [
       "<strauss.generator.Sampler at 0x11eda8980>"
      ]
     },
     "execution_count": 3,
     "metadata": {},
     "output_type": "execute_result"
    }
   ],
   "source": [
    "Sampler(\"ChateauGrand-Plus-Instruments-bs16i-v4.sf2\")"
   ]
  },
  {
   "cell_type": "code",
   "execution_count": 191,
   "id": "2e51de4c-5a5a-4131-a1bb-5d1544665e5d",
   "metadata": {},
   "outputs": [],
   "source": [
    "#getting a list of all of the sounds in this soundfont\n",
    "#listall= Sampler(\"ChateauGrand-Plus-Instruments-bs16i-v4.sf2\",sf_preset=36)\n",
    "listall = Sampler(\"ChateauGrand-Plus-Instruments-bs16i-v4.sf2\", sf_preset=5)\n",
    "#Sampler(\"strauss/data/samples/soundfonts/flute.sf2\")\n"
   ]
  },
  {
   "cell_type": "code",
   "execution_count": 192,
   "id": "764eb69c-0f26-42c6-8868-853dac6c225f",
   "metadata": {},
   "outputs": [],
   "source": [
    "generator = copy.copy(listall)"
   ]
  },
  {
   "cell_type": "code",
   "execution_count": 193,
   "id": "4c823e67-16e3-4668-abb5-735fd444a097",
   "metadata": {},
   "outputs": [],
   "source": [
    "length = 10\n",
    "notes = [[\"C3\",\"D3\",\"E3\",\"G3\",\"B3\",\"C4\",\"D4\",\"E4\",\"G4\",\"B4\",\"C5\",\"D5\",\"E5\",\"G5\",\"B5\"]]\n",
    "#[[\"G0\",\"C3\",\"D3\",\"E3\",\"G3\",\"B3\",\"C4\",\"D4\",\"E4\",\"G4\",\"B4\",\"C5\",\"D5\",\"E5\",\"G5\",\"B5\"]]\n",
    "score =  Score(notes, length)"
   ]
  },
  {
   "cell_type": "code",
   "execution_count": 194,
   "id": "1e1be8d2-d64a-44cc-8138-5a6ef733885d",
   "metadata": {},
   "outputs": [
    {
     "data": {
      "text/plain": [
       "'# we use a \\'chord\\' here to create more harmonic richness (stacking fifths)...\\nnotes = [[\"E2\", \"B3\"]]\\nscore =  Score(notes, 15)\\n\\ndata = {\\'pitch\\':[0,1,2,3],\\n        \\'time_evo\\':[x]*4,\\n        \\'cutoff\\':[y]*4}\\n\\nlims = {\\'time_evo\\': (\\'0\\',\\'100\\'),\\n        \\'cutoff\\': (\\'0\\',\\'100\\')}\\n\\n# set up source\\nsources = Objects(data.keys())\\nsources.fromdict(data)\\nplims = {\\'cutoff\\': (0.25,0.95)}\\nsources.apply_mapping_functions(map_lims=lims, param_lims=plims)\\n\\nsoni = Sonification(score, sources, generator, system)\\nsoni.render()'"
      ]
     },
     "execution_count": 194,
     "metadata": {},
     "output_type": "execute_result"
    }
   ],
   "source": [
    "np.arange(len(notes[0]))\n",
    "#len([\"C3\",\"D3\",\"E3\",\"G3\",\"B3\",\"C4\",\"D4\",\"E4\",\"G4\",\"B4\",\"C5\",\"D5\",\"E5\",\"G5\",\"B5\"])\n",
    "'''# we use a 'chord' here to create more harmonic richness (stacking fifths)...\n",
    "notes = [[\"E2\", \"B3\"]]\n",
    "score =  Score(notes, 15)\n",
    "\n",
    "data = {'pitch':[0,1,2,3],\n",
    "        'time_evo':[x]*4,\n",
    "        'cutoff':[y]*4}\n",
    "\n",
    "lims = {'time_evo': ('0','100'),\n",
    "        'cutoff': ('0','100')}\n",
    "\n",
    "# set up source\n",
    "sources = Objects(data.keys())\n",
    "sources.fromdict(data)\n",
    "plims = {'cutoff': (0.25,0.95)}\n",
    "sources.apply_mapping_functions(map_lims=lims, param_lims=plims)\n",
    "\n",
    "soni = Sonification(score, sources, generator, system)\n",
    "soni.render()'''"
   ]
  },
  {
   "cell_type": "markdown",
   "id": "7958f10a-cebb-420a-af0f-c309cee8ac1b",
   "metadata": {},
   "source": [
    "lightcurve = np.genfromtxt('strauss/data/datasets/55Cancri_lc.dat')\n",
    "x = lightcurve[:,0][:]\n",
    "y = lightcurve[:,1][:]\n",
    "x.shape, y.shape"
   ]
  },
  {
   "cell_type": "code",
   "execution_count": 8,
   "id": "1b8d32a4-62c1-4666-a32f-9d36beb0cea0",
   "metadata": {},
   "outputs": [
    {
     "data": {
      "text/plain": [
       "[array([ 0,  1,  2,  3,  4,  5,  6,  7,  8,  9, 10, 11, 12, 13, 14])]"
      ]
     },
     "execution_count": 8,
     "metadata": {},
     "output_type": "execute_result"
    }
   ],
   "source": [
    "[np.arange(len(notes[0]))]"
   ]
  },
  {
   "cell_type": "markdown",
   "id": "d9d95b4b-3768-4132-9975-fac77569cd7b",
   "metadata": {},
   "source": [
    "# trying as event"
   ]
  },
  {
   "cell_type": "code",
   "execution_count": null,
   "id": "0a075109-61e3-43ad-840f-fbd533fba3bc",
   "metadata": {},
   "outputs": [],
   "source": []
  },
  {
   "cell_type": "code",
   "execution_count": 6,
   "id": "099267fd-3884-4cf3-a6f3-8a7a156a62d8",
   "metadata": {},
   "outputs": [],
   "source": [
    "listall = Sampler(\"ChateauGrand-Plus-Instruments-bs16i-v4.sf2\",sf_preset=15)\n",
    "generator = copy.copy(listall)"
   ]
  },
  {
   "cell_type": "code",
   "execution_count": 7,
   "id": "26eeb346-1bb8-4c6b-b670-03b34f1f676d",
   "metadata": {},
   "outputs": [],
   "source": [
    "length = 2\n",
    "notes = [[\"G1\",\"B1\",\"D1\"]]\n",
    "#[[\"C3\",\"D3\",\"E3\",\"G3\",\"B3\",\"C4\",\"D4\",\"E4\",\"G4\",\"B4\",\"C5\",\"D5\",\"E5\",\"G5\",\"B5\"]]\n",
    "#[[\"G0\",\"C3\",\"D3\",\"E3\",\"G3\",\"B3\",\"C4\",\"D4\",\"E4\",\"G4\",\"B4\",\"C5\",\"D5\",\"E5\",\"G5\",\"B5\"]]\n",
    "score =  Score(notes, length)"
   ]
  },
  {
   "cell_type": "code",
   "execution_count": 8,
   "id": "68bf9070-f97c-4ef1-9c56-da23de4ea9eb",
   "metadata": {},
   "outputs": [],
   "source": [
    "#x = np.arange(0,10)\n",
    "data = {'volume': np.ones(len(notes[0])),\n",
    "       'pitch': np.ones(len(np.array(notes[0])))} #irl want to make volume scale with importance somehow\n",
    "\n",
    "#sources = Events(data.keys())\n",
    "#sources.fromdict(data)\n",
    "sources = Events(data.keys())\n",
    "sources.fromdict(data)\n",
    "#lims = {'time': ('0','101')}\n",
    "lims = {'time': ('0','101'),\n",
    "       'pitch':('0','100')}\n",
    "\n",
    "sources.apply_mapping_functions(map_lims=lims)"
   ]
  },
  {
   "cell_type": "code",
   "execution_count": 9,
   "id": "a3d44fca-3020-44d4-9c22-3cd64f21cce5",
   "metadata": {},
   "outputs": [
    {
     "name": "stderr",
     "output_type": "stream",
     "text": [
      "100%|████████████████████████████████████████████| 3/3 [00:00<00:00, 351.77it/s]\n"
     ]
    },
    {
     "name": "stdout",
     "output_type": "stream",
     "text": [
      "Saved practice.wav\n",
      "Playing Sonification (2 s): \n"
     ]
    }
   ],
   "source": [
    "system = \"stereo\"\n",
    "soni = Sonification(score, sources, generator, system)\n",
    "soni.render()\n",
    "soni.save('practice.wav',True)\n",
    "soni.hear()"
   ]
  },
  {
   "cell_type": "markdown",
   "id": "e8267a40-7a28-4444-aeaa-8db9e588d5c5",
   "metadata": {},
   "source": [
    "# trying as object -"
   ]
  },
  {
   "cell_type": "code",
   "execution_count": null,
   "id": "c030666a-13ca-4495-aba7-4f5d77d059a6",
   "metadata": {},
   "outputs": [],
   "source": []
  },
  {
   "cell_type": "code",
   "execution_count": 109,
   "id": "354f224a-4b60-45fe-9c5a-798bb744ae5e",
   "metadata": {},
   "outputs": [
    {
     "name": "stdout",
     "output_type": "stream",
     "text": [
      "notes available for instrument: dict_keys(['C0_0L', 'C0_1L', 'C0_2L', 'C0_3L', 'C0_4L', 'D#0_0L', 'D#0_1L', 'D#0_2L', 'D#0_3L', 'D#0_4L', 'F#0_0L', 'F#0_1L', 'F#0_2L', 'F#0_3L', 'F#0_4L', 'F#0_5L', 'A0_0L', 'A0_1L', 'A0_2L', 'A0_3L', 'A0_4L', 'A0_5L', 'C1_0L', 'C1_1L', 'C1_3L', 'C1_4L', 'C1_5L', 'C1_6L', 'D#1_0L', 'D#1_1L', 'D#1_2L', 'D#1_3L', 'D#1_4L', 'D#1_5L', 'F#1_1L', 'F#1_2L', 'F#1_3L', 'F#1_4L', 'F#1_5L', 'A1_1L', 'A1_2L', 'A1_3L', 'A1_4L', 'A1_5L', 'C2_0L', 'C2_1L', 'C2_2L', 'C2_3L', 'C2_4L', 'C2_5L', 'D#2_0L', 'D#2_2L-1', 'D#2_2R-1', 'D#2_2L', 'D#2_3L', 'D#2_4L', 'D#2_5L', 'F#2_0L', 'F#2_1L', 'F#2_2L', 'F#2_3L', 'F#2_4L', 'A2_0L', 'A2_1L', 'A2_2L', 'A2_3L', 'A2_4L', 'A2_5L', 'C3_0L', 'C3_1L', 'C3_2L', 'C3_3L', 'C3_4L', 'C3_5L', 'D#3_1L', 'D#3_2L', 'D#3_3L', 'D#3_4L', 'D#3_5L', 'D#3_6L', 'F#3_0L', 'F#3_1L', 'F#3_2L', 'F#3_3L', 'F#3_4L', 'F#3_5L', 'A3_0L', 'A3_1L', 'A3_2L', 'A3_3L', 'A3_4L', 'A3_5L', 'C4_1L', 'C4_2L', 'C4_3L', 'C4_4L', 'C4_5L', 'C4_6L', 'D#4_0L', 'D#4_1L', 'D#4_2L', 'D#4_3L', 'D#4_4L', 'D#4_5L', 'F#4_1L', 'F#4_2L', 'F#4_3L', 'F#4_4L', 'F#4_5L', 'F#4_6L', 'A4_0L', 'A4_1L', 'A4_2L', 'A4_3L', 'A4_4L', 'A4_5L', 'C5_0L', 'C5_1L', 'C5_2L', 'C5_3L', 'C5_4L', 'C5_5L', 'D#5_1L', 'D#5_2L', 'D#5_3L', 'D#5_4L', 'D#5_5L', 'D#5_6L', 'F#5_0L', 'F#5_1L', 'F#5_2L', 'F#5_3L', 'F#5_4L', 'F#5_5L', 'A5_0L', 'A5_1L', 'A5_2L', 'A5_3L', 'A5_4L', 'A5_5L', 'C6_0L', 'C6_1L', 'C6_2L', 'C6_3L', 'C6_4L', 'C6_5L', 'D#6_1L', 'D#6_2L', 'D#6_4L', 'D#6_5L', 'D#6_6L', 'D#6_7L', 'F#6_0L', 'F#6_1L', 'F#6_2L', 'F#6_3L', 'F#6_4L', 'A6_0L', 'A6_1L', 'A6_2L', 'A6_3L', 'A6_4L', 'A6_5L', 'C7_0L', 'C7_1L', 'C7_2L', 'C7_3L', 'C7_4L', 'C7_5L'])\n"
     ]
    }
   ],
   "source": [
    "listall = Sampler(\"ChateauGrand-Plus-Instruments-bs16i-v4.sf2\",sf_preset=5, print_notes=True)\n",
    "generator = copy.copy(listall)"
   ]
  },
  {
   "cell_type": "code",
   "execution_count": 110,
   "id": "a1b10224-4451-49e4-ac9c-f6fa549c8362",
   "metadata": {},
   "outputs": [],
   "source": [
    "length = 2\n",
    "notes = [[\"G1\",\"B1\",\"D1\"]]\n",
    "#[[\"C3\",\"D3\",\"E3\",\"G3\",\"B3\",\"C4\",\"D4\",\"E4\",\"G4\",\"B4\",\"C5\",\"D5\",\"E5\",\"G5\",\"B5\"]]\n",
    "#[[\"G0\",\"C3\",\"D3\",\"E3\",\"G3\",\"B3\",\"C4\",\"D4\",\"E4\",\"G4\",\"B4\",\"C5\",\"D5\",\"E5\",\"G5\",\"B5\"]]\n",
    "score =  Score(notes, length)"
   ]
  },
  {
   "cell_type": "code",
   "execution_count": 111,
   "id": "f041f3b0-25bb-4bfe-9e1e-5d429b8064e6",
   "metadata": {},
   "outputs": [
    {
     "ename": "IndexError",
     "evalue": "list index out of range",
     "output_type": "error",
     "traceback": [
      "\u001b[0;31m---------------------------------------------------------------------------\u001b[0m",
      "\u001b[0;31mIndexError\u001b[0m                                Traceback (most recent call last)",
      "Cell \u001b[0;32mIn[111], line 12\u001b[0m\n\u001b[1;32m      6\u001b[0m lims \u001b[38;5;241m=\u001b[39m {\u001b[38;5;124m'\u001b[39m\u001b[38;5;124mtime_evo\u001b[39m\u001b[38;5;124m'\u001b[39m: (\u001b[38;5;124m'\u001b[39m\u001b[38;5;124m0\u001b[39m\u001b[38;5;124m'\u001b[39m,\u001b[38;5;124m'\u001b[39m\u001b[38;5;124m101\u001b[39m\u001b[38;5;124m'\u001b[39m),\n\u001b[1;32m      7\u001b[0m        \u001b[38;5;124m'\u001b[39m\u001b[38;5;124mpitch\u001b[39m\u001b[38;5;124m'\u001b[39m:(\u001b[38;5;124m'\u001b[39m\u001b[38;5;124m0\u001b[39m\u001b[38;5;124m'\u001b[39m,\u001b[38;5;124m'\u001b[39m\u001b[38;5;124m100\u001b[39m\u001b[38;5;124m'\u001b[39m)}\n\u001b[1;32m      9\u001b[0m \u001b[38;5;66;03m#generator.modify_preset({'looping':'forwardback',\u001b[39;00m\n\u001b[1;32m     10\u001b[0m \u001b[38;5;66;03m#                         'loop_start': 0.05, 'loop_end': 0.2})\u001b[39;00m\n\u001b[0;32m---> 12\u001b[0m \u001b[43msources\u001b[49m\u001b[38;5;241;43m.\u001b[39;49m\u001b[43mapply_mapping_functions\u001b[49m\u001b[43m(\u001b[49m\u001b[43mmap_lims\u001b[49m\u001b[38;5;241;43m=\u001b[39;49m\u001b[43mlims\u001b[49m\u001b[43m)\u001b[49m\n",
      "File \u001b[0;32m~/Developer/sonification/strauss/src/strauss/sources.py:219\u001b[0m, in \u001b[0;36mSource.apply_mapping_functions\u001b[0;34m(self, map_funcs, map_lims, param_lims)\u001b[0m\n\u001b[1;32m    217\u001b[0m     \u001b[38;5;28mself\u001b[39m\u001b[38;5;241m.\u001b[39mmapping[key] \u001b[38;5;241m=\u001b[39m []\n\u001b[1;32m    218\u001b[0m     \u001b[38;5;28;01mfor\u001b[39;00m i \u001b[38;5;129;01min\u001b[39;00m \u001b[38;5;28mrange\u001b[39m(\u001b[38;5;28mself\u001b[39m\u001b[38;5;241m.\u001b[39mn_sources):\n\u001b[0;32m--> 219\u001b[0m         scaledvals \u001b[38;5;241m=\u001b[39m rescale_values(\u001b[43mmapvals\u001b[49m\u001b[43m[\u001b[49m\u001b[43mi\u001b[49m\u001b[43m]\u001b[49m, lims, plims)\n\u001b[1;32m    220\u001b[0m         \u001b[38;5;28mself\u001b[39m\u001b[38;5;241m.\u001b[39mmapping[key]\u001b[38;5;241m.\u001b[39mappend(scaledvals)\n\u001b[1;32m    221\u001b[0m \u001b[38;5;28;01melse\u001b[39;00m:\n",
      "\u001b[0;31mIndexError\u001b[0m: list index out of range"
     ]
    }
   ],
   "source": [
    "data = {'time_evo': np.ones(len(np.array(notes[0]))),\n",
    "       'volume': [1,1,1],\n",
    "       'pitch': [1,1,1]} #irl want to make volume scale with importance somehow\n",
    "sources = Objects(data.keys())\n",
    "sources.fromdict(data)\n",
    "lims = {'time_evo': ('0','101'),\n",
    "       'pitch':('0','100')}\n",
    "\n",
    "#generator.modify_preset({'looping':'forwardback',\n",
    "#                         'loop_start': 0.05, 'loop_end': 0.2})\n",
    "\n",
    "sources.apply_mapping_functions(map_lims=lims)"
   ]
  },
  {
   "cell_type": "code",
   "execution_count": null,
   "id": "203273af-36a1-4014-917f-57a767053aad",
   "metadata": {},
   "outputs": [],
   "source": [
    "system = \"stereo\"\n",
    "soni = Sonification(score, sources, generator, system)\n",
    "soni.render()\n",
    "soni.save('practice.wav',True)\n",
    "soni.hear()"
   ]
  },
  {
   "cell_type": "code",
   "execution_count": 138,
   "id": "f547b802-25b5-4b77-8e4c-9142a2261dac",
   "metadata": {},
   "outputs": [
    {
     "name": "stdout",
     "output_type": "stream",
     "text": [
      "valid 'sf_preset' not provided for soundfont file, available presets are:\n",
      "\n",
      "----------------------------------------\n",
      "1. \"Rotary Organ\"\n",
      "2. \"Warm Pad\"\n",
      "3. \"Steel Guitar\"\n",
      "4. \"Nylon Guitar\"\n",
      "5. \"Chateau Grand\"\n",
      "6. \"Chateau Grand+Pad\"\n",
      "7. \"Ch Grand+LowStrings\"\n",
      "8. \"Ch Grand+Strings\"\n",
      "9. \"Ch Grand+ChamberStr\"\n",
      "10. \"Full Strings Vel\"\n",
      "11. \"Chamber Strings\"\n",
      "12. \"Cello\"\n",
      "13. \"Rotary Slow\"\n",
      "14. \"Rotary Fast\"\n",
      "15. \"Rotary Var.Velocity\"\n",
      "16. \"Small Pipe Organ\"\n",
      "17. \"Pipe Organ Full\"\n",
      "18. \"Plein-jeu Organ Lge\"\n",
      "19. \"DX7 EP\"\n",
      "20. \"Small Plein-Jeu\"\n",
      "21. \"Flute Sml Plein-Jeu\"\n",
      "22. \"Pad Plein-jeu Large\"\n",
      "23. \"Flute 2\"\n",
      "24. \"FlutePad S Plein-Jeu\"\n",
      "25. \"Dark Chateau Grand\"\n",
      "26. \"DX7+Pad\"\n",
      "27. \"DX7+Low Strings\"\n",
      "28. \"Voyager-8\"\n",
      "29. \"Violin (all around)\"\n",
      "30. \"Two Violins\"\n",
      "31. \"Alto Sax\"\n",
      "32. \"Flute Expr+8 (SSO)\"\n",
      "33. \"Clean Guitar\"\n",
      "34. \"Jazz Guitar\"\n",
      "35. \"Chorus Guitar\"\n",
      "36. \"Trumpet\"\n",
      "37. \"Synth Strings\"\n",
      "38. \"Full Orchestra\"\n",
      "39. \"Banjo 5 String\"\n",
      "40. \"Moog Pad\"\n",
      "41. \"Moog 55 Rez\"\n",
      "42. \"Accordion\"\n",
      "43. \"Italian Accordion\"\n",
      "44. \"12 String Guitar\"\n",
      "45. \"Distortion Guitar\"\n",
      "46. \"Steel Low Vel Mute\"\n",
      "47. \"Steel Layered Mute\"\n",
      "48. \"Saw Wave\"\n",
      "49. \"Single Coil FX\"\n",
      "50. \"LP Twin Elec Gtr\"\n",
      "51. \"Single Coil FX Pick\"\n",
      "52. \"LP Twin Pick Gtr\"\n",
      "53. \"Distn Gtr Pick\"\n",
      "54. \"Single Coil Dry\"\n",
      "55. \"LP Twin Muted\"\n",
      "56. \"Single Coil Muted\"\n",
      "57. \"Jazz Guitar 2\"\n",
      "58. \"Overdrive Guitar\"\n",
      "59. \"Overdrive Gtr Pick\"\n",
      "60. \"Jazz Guitar 3\"\n",
      "61. \"Chateau Grand (copy)\"\n",
      "62. \"DX7 EP (copy)\"\n",
      "63. \"DynamicChateau(copy)\"\n",
      "64. \"Dyn Ch+Pad\"\n",
      "65. \"Dyn Ch+Low Strings\"\n",
      "66. \"Dyn Ch+ChamberStr\"\n",
      "67. \"Dyn Ch+Strings\"\n",
      "68. \"Dynamic ChateauGrand\"\n",
      "69. \"Studio Chateau Grand\"\n",
      "70. \"Wurlitzer EP\"\n",
      "71. \"Rhodes EP\"\n",
      "72. \"Rhodes Slow Trem\"\n",
      "73. \"Rhodes Med Trem\"\n",
      "74. \"Rhodes Fast Trem\"\n",
      "75. \"Rhodes Bell EP\"\n",
      "76. \"Rhodes Bell Slow Trm\"\n",
      "77. \"Rhodes Bell Fast Trm\"\n",
      "----------------------------------------\n",
      "\n",
      "By default choosing preset 1 (\"Rotary Organ\").\n",
      "\n",
      "Re-run 'Sampler' with the 'sf_preset' keyword argument to select a specific\n",
      "preset, ie. 'Sampler(\"ChateauGrand-Plus-Instruments-bs16i-v4.sf2\",sf_preset=N)',\n",
      "where N is an integer from 1-77.\n",
      "\n"
     ]
    },
    {
     "data": {
      "text/plain": [
       "<strauss.generator.Sampler at 0x11ee72240>"
      ]
     },
     "execution_count": 138,
     "metadata": {},
     "output_type": "execute_result"
    }
   ],
   "source": [
    "Sampler(\"ChateauGrand-Plus-Instruments-bs16i-v4.sf2\")"
   ]
  },
  {
   "cell_type": "markdown",
   "id": "047ebdaa-56e8-4b95-9160-e3774c7a780e",
   "metadata": {},
   "source": [
    "# testing sounds"
   ]
  },
  {
   "cell_type": "code",
   "execution_count": null,
   "id": "56c99abc-dfa1-49e5-b6d4-1cf181ae5a06",
   "metadata": {},
   "outputs": [],
   "source": []
  },
  {
   "cell_type": "code",
   "execution_count": 187,
   "id": "3f573f3f-52ad-4cb7-b3ca-f25b5b556e8f",
   "metadata": {},
   "outputs": [
    {
     "name": "stdout",
     "output_type": "stream",
     "text": [
      "notes available for instrument: dict_keys(['A_029__F1_5', 'A_035__B1_5', 'A_040__E2_5', 'A_045__A2_5', 'A_050__D3_5', 'A_055__G3_5', 'A_059__B3_5', 'A_062__D4_5', 'A_065__F4_5', 'A_071__B4_5', 'A_076__E5_5', 'A_081__A5_5', 'A_086__D6_5', 'A_091__G6_5', 'A_096__C7_5', 'A_029__F1_4', 'A_035__B1_4', 'A_040__E2_4', 'A_045__A2_4', 'A_050__D3_4', 'A_055__G3_4', 'A_059__B3_4', 'A_062__D4_4', 'A_065__F4_4', 'A_071__B4_4', 'A_076__E5_4', 'A_081__A5_4', 'A_086__D6_4', 'A_091__G6_4', 'A_096__C7_4', 'A_029__F1_3', 'A_035__B1_3', 'A_040__E2_3', 'A_045__A2_3', 'A_050__D3_3', 'A_055__G3_3', 'A_059__B3_3', 'A_062__D4_3', 'A_065__F4_3', 'A_029__F1_2', 'A_035__B1_2', 'A_040__E2_2', 'A_045__A2_2', 'A_050__D3_2', 'A_055__G3_2', 'A_059__B3_2', 'A_062__D4_2', 'A_065__F4_2', 'A_071__B4_2', 'A_076__E5_2', 'A_081__A5_2', 'A_086__D6_2', 'A_091__G6_2', 'A_096__C7_2', 'A_029__F1_1', 'A_035__B1_1', 'A_040__E2_1', 'A_045__A2_1', 'A_050__D3_1', 'A_055__G3_1', 'A_059__B3_1', 'A_062__D4_1', 'A_065__F4_1', 'A_071__B4_1', 'A_076__E5_1'])\n"
     ]
    }
   ],
   "source": [
    "listall = Sampler(\"ChateauGrand-Plus-Instruments-bs16i-v4.sf2\",sf_preset=71, print_notes=True)\n",
    "generator = copy.copy(listall)\n",
    "#5 is normal piano, 1 does piano range I think but is different feeling and distinguishable\n",
    "#"
   ]
  },
  {
   "cell_type": "code",
   "execution_count": 188,
   "id": "c9f9c9b8-9a4b-4dae-b0a4-ac7c40186c55",
   "metadata": {},
   "outputs": [
    {
     "name": "stderr",
     "output_type": "stream",
     "text": [
      "100%|████████████████████████████████████████████| 1/1 [00:00<00:00, 689.97it/s]\n"
     ]
    },
    {
     "name": "stdout",
     "output_type": "stream",
     "text": [
      "Saved practice.wav\n",
      "Playing Sonification (1 s): \n"
     ]
    },
    {
     "name": "stderr",
     "output_type": "stream",
     "text": [
      "100%|█████████████████████████████████████████████| 1/1 [00:00<00:00, 68.30it/s]\n"
     ]
    },
    {
     "name": "stdout",
     "output_type": "stream",
     "text": [
      "Saved practice.wav\n",
      "Playing Sonification (1 s): \n"
     ]
    },
    {
     "name": "stderr",
     "output_type": "stream",
     "text": [
      "100%|████████████████████████████████████████████| 1/1 [00:00<00:00, 177.75it/s]\n"
     ]
    },
    {
     "name": "stdout",
     "output_type": "stream",
     "text": [
      "Saved practice.wav\n",
      "Playing Sonification (1 s): \n"
     ]
    },
    {
     "name": "stderr",
     "output_type": "stream",
     "text": [
      "100%|████████████████████████████████████████████| 1/1 [00:00<00:00, 145.90it/s]\n"
     ]
    },
    {
     "name": "stdout",
     "output_type": "stream",
     "text": [
      "Saved practice.wav\n",
      "Playing Sonification (1 s): \n"
     ]
    },
    {
     "name": "stderr",
     "output_type": "stream",
     "text": [
      "100%|████████████████████████████████████████████| 1/1 [00:00<00:00, 120.11it/s]\n"
     ]
    },
    {
     "name": "stdout",
     "output_type": "stream",
     "text": [
      "Saved practice.wav\n",
      "Playing Sonification (1 s): \n"
     ]
    },
    {
     "name": "stderr",
     "output_type": "stream",
     "text": [
      "100%|████████████████████████████████████████████| 1/1 [00:00<00:00, 197.01it/s]\n"
     ]
    },
    {
     "name": "stdout",
     "output_type": "stream",
     "text": [
      "Saved practice.wav\n",
      "Playing Sonification (1 s): \n"
     ]
    },
    {
     "name": "stderr",
     "output_type": "stream",
     "text": [
      "100%|████████████████████████████████████████████| 1/1 [00:00<00:00, 242.67it/s]\n"
     ]
    },
    {
     "name": "stdout",
     "output_type": "stream",
     "text": [
      "Saved practice.wav\n",
      "Playing Sonification (1 s): \n"
     ]
    }
   ],
   "source": [
    "length = 1\n",
    "notes = [[[\"C1\"]],\n",
    "          [[\"C2\"]],\n",
    "           [[\"C3\"]],\n",
    "         [[\"C4\"]],\n",
    "         [[\"C5\"]],\n",
    "        [[\"C6\"]],\n",
    "        [[\"C7\"]]]\n",
    "for note in notes:\n",
    "    score =  Score(note, length)\n",
    "    data = {'volume': np.ones(len(np.array(notes[0]))),\n",
    "           'pitch': [1]} #irl want to make volume scale with importance somehow\n",
    "    sources = Events(data.keys())\n",
    "    sources.fromdict(data)\n",
    "    lims = {'time': ('0','101'),\n",
    "           'pitch':('0','100')}\n",
    "    \n",
    "    sources.apply_mapping_functions(map_lims=lims)\n",
    "    \n",
    "    system = \"stereo\"\n",
    "    soni = Sonification(score, sources, generator, system)\n",
    "    soni.render()\n",
    "    soni.save('practice.wav',True)\n",
    "    soni.hear()"
   ]
  },
  {
   "cell_type": "code",
   "execution_count": 177,
   "id": "cf8541fe-20fb-4ba6-a6a7-5a314fb6e18b",
   "metadata": {},
   "outputs": [
    {
     "data": {
      "text/plain": [
       "[[['C1']],\n",
       " [['D1']],\n",
       " [['E1']],\n",
       " [['F1']],\n",
       " [['G1']],\n",
       " [['A1']],\n",
       " [['B1']],\n",
       " [['C7']]]"
      ]
     },
     "execution_count": 177,
     "metadata": {},
     "output_type": "execute_result"
    }
   ],
   "source": [
    "[[[\"C1\"]],\n",
    "          [[\"D1\"]],\n",
    "           [[\"E1\"]],\n",
    "         [[\"F1\"]],\n",
    "         [[\"G1\"]],\n",
    "        [[\"A1\"]],\n",
    "          [[\"B1\"]],\n",
    "        [[\"C7\"]]]"
   ]
  },
  {
   "cell_type": "code",
   "execution_count": null,
   "id": "6cab675c-3556-47a4-8717-3acc46e4245f",
   "metadata": {},
   "outputs": [],
   "source": []
  },
  {
   "cell_type": "code",
   "execution_count": 112,
   "id": "48182ed0-b49e-4acb-9838-21b71c291e26",
   "metadata": {},
   "outputs": [],
   "source": [
    "generator.preset_details(term='looping')"
   ]
  },
  {
   "cell_type": "code",
   "execution_count": null,
   "id": "922849c5-bf93-476d-9f0c-1f059496e1b4",
   "metadata": {},
   "outputs": [],
   "source": []
  },
  {
   "cell_type": "code",
   "execution_count": 6,
   "id": "a3709115-707e-4074-b514-a9b54d471622",
   "metadata": {},
   "outputs": [],
   "source": [
    "generator = Synthesizer()"
   ]
  },
  {
   "cell_type": "code",
   "execution_count": 8,
   "id": "85021b54-c77e-43ea-b759-a7102a94617e",
   "metadata": {},
   "outputs": [],
   "source": [
    "#generator --h"
   ]
  },
  {
   "cell_type": "code",
   "execution_count": 9,
   "id": "81787545-7472-4c2f-af0f-8661cd07dfa4",
   "metadata": {},
   "outputs": [],
   "source": [
    "length = 10\n",
    "notes = [[\"A2\", \"B2\", \"C2\"]]\n",
    "score =  Score(notes, length)"
   ]
  },
  {
   "cell_type": "code",
   "execution_count": 24,
   "id": "85bd6e1f-1ff8-4042-97db-493f3ef310bb",
   "metadata": {},
   "outputs": [
    {
     "ename": "TypeError",
     "evalue": "Synthesizer.play() missing 1 required positional argument: 'mapping'",
     "output_type": "error",
     "traceback": [
      "\u001b[0;31m---------------------------------------------------------------------------\u001b[0m",
      "\u001b[0;31mTypeError\u001b[0m                                 Traceback (most recent call last)",
      "Cell \u001b[0;32mIn[24], line 2\u001b[0m\n\u001b[1;32m      1\u001b[0m Generator()\n\u001b[0;32m----> 2\u001b[0m \u001b[43mstrauss\u001b[49m\u001b[38;5;241;43m.\u001b[39;49m\u001b[43mgenerator\u001b[49m\u001b[38;5;241;43m.\u001b[39;49m\u001b[43mSynthesizer\u001b[49m\u001b[38;5;241;43m.\u001b[39;49m\u001b[43mplay\u001b[49m\u001b[43m(\u001b[49m\u001b[43mScore\u001b[49m\u001b[43m)\u001b[49m\n",
      "\u001b[0;31mTypeError\u001b[0m: Synthesizer.play() missing 1 required positional argument: 'mapping'"
     ]
    }
   ],
   "source": [
    "Generator()\n",
    "strauss.generator.Synthesizer.play(Score)"
   ]
  },
  {
   "cell_type": "code",
   "execution_count": null,
   "id": "7277fd90-fb84-4206-9e5d-6d382bcbeccb",
   "metadata": {},
   "outputs": [],
   "source": [
    "datafile = pathlib.Path(\"..\", \"data\", \"datasets\", \"stars_paranal.txt\")\n",
    "mapcols =  {'azimuth':1, 'polar':0, 'volume':2, 'time':2, 'pitch':3}\n",
    "\n",
    "mapvals =  {'azimuth': lambda x : x,\n",
    "            'polar': lambda x : 90.-x,\n",
    "            'time': lambda x : x,\n",
    "            'pitch' : lambda x: -x,\n",
    "            'volume' : lambda x : (1+np.argsort(x).astype(float))**-0.2}\n",
    "\n",
    "maplims =  {'azimuth': (0, 360),\n",
    "            'polar': (0, 180), \n",
    "            'time': ('0', '104'),\n",
    "            'pitch' : ('0', '100'),\n",
    "            'volume' : ('0', '100')}\n",
    "\n",
    "events = Events(mapcols.keys())\n",
    "events.fromfile(datafile, mapcols)\n",
    "events.apply_mapping_functions(mapvals, maplims)"
   ]
  },
  {
   "cell_type": "code",
   "execution_count": null,
   "id": "9c4006b9-ee74-42f2-ba65-2fba162cb53f",
   "metadata": {},
   "outputs": [],
   "source": [
    "sampler = Sampler(pathlib.Path(\"..\", \"data\", \"samples\", \"glockenspiels\"))\n",
    "sampler.preset_details(\"default\")"
   ]
  },
  {
   "cell_type": "code",
   "execution_count": null,
   "id": "95416802-90db-45e4-bbe0-a78e3cc25f0e",
   "metadata": {},
   "outputs": [],
   "source": [
    "system = \"stereo\"\n",
    "soni = Sonification(score, events, sampler, system)\n",
    "soni.render()"
   ]
  },
  {
   "cell_type": "code",
   "execution_count": null,
   "id": "3fcc44a2-acf1-40a9-9895-17f192f5426b",
   "metadata": {},
   "outputs": [],
   "source": [
    "soni.save(pathlib.Path('..', '..', 'rendered_stars_5p1.wav'),True)"
   ]
  },
  {
   "cell_type": "code",
   "execution_count": null,
   "id": "96b2247e-8aaf-4253-a321-dc0bc7704bc0",
   "metadata": {},
   "outputs": [],
   "source": [
    "soni.notebook_display()"
   ]
  },
  {
   "cell_type": "code",
   "execution_count": null,
   "id": "d637b7db-332f-4f5f-8d27-e6269fb3f33f",
   "metadata": {},
   "outputs": [],
   "source": [
    "    generator = Spectralizer()\n",
    "\n",
    "    # Lets pick the mapping frequency range for the spectrum...\n",
    "    generator.modify_preset({'min_freq':100, 'max_freq':1000})\n",
    "\n",
    "    s = np.zeros(spec1.size)\n",
    "    s[-1] = 1\n",
    "    # set up spectrum and choose some envelope parameters for fade-in and fade-out\n",
    "    data = {'spectrum':[spectra[i]], 'pitch':[1],\n",
    "            'volume_envelope/D':[0.9], \n",
    "            'volume_envelope/S':[0.], \n",
    "            'volume_envelope/A':[0.05]}\n",
    "    \n",
    "    # again, use maximal range for the mapped parameters\n",
    "    lims = {'spectrum': ('0','100')}\n",
    "    \n",
    "    # set up source\n",
    "    sources = Events(data.keys())\n",
    "    sources.fromdict(data)\n",
    "    sources.apply_mapping_functions(map_lims=lims)\n",
    "    \n",
    "    # render and play sonification!\n",
    "    soni = Sonification(score, sources, generator, system)\n",
    "    soni.render()"
   ]
  },
  {
   "cell_type": "code",
   "execution_count": null,
   "id": "ad71022c-e898-44ef-ab38-ee19e2685091",
   "metadata": {},
   "outputs": [],
   "source": [
    "'''strauss.sonification.Sonification(score, sources, generator, audio_setup='stereo', \n",
    "caption=None, samprate=48000, ttsmodel=PosixPath('tts_models/en/jenny/jenny'))\n",
    "\n",
    "save(fname, master_volume=1.0)\n",
    "\n",
    "save_combined(fname, ffmpeg_output=False, master_volume=1.0)\n",
    "Save render as a combined multi-channel wav file'''"
   ]
  },
  {
   "cell_type": "code",
   "execution_count": null,
   "id": "10045328-0dd8-45fd-a75d-ae5349b2980d",
   "metadata": {},
   "outputs": [],
   "source": []
  },
  {
   "cell_type": "code",
   "execution_count": null,
   "id": "f71285cf-0e81-425a-9a18-8e7122dd6e44",
   "metadata": {},
   "outputs": [],
   "source": []
  },
  {
   "cell_type": "code",
   "execution_count": null,
   "id": "644b947c-7555-4048-be42-6a4c17de20fd",
   "metadata": {},
   "outputs": [],
   "source": []
  },
  {
   "cell_type": "code",
   "execution_count": null,
   "id": "5ea63f21-aeac-4dbf-8456-68b69ded8d14",
   "metadata": {},
   "outputs": [],
   "source": []
  }
 ],
 "metadata": {
  "kernelspec": {
   "display_name": "Python 3 (ipykernel)",
   "language": "python",
   "name": "python3"
  },
  "language_info": {
   "codemirror_mode": {
    "name": "ipython",
    "version": 3
   },
   "file_extension": ".py",
   "mimetype": "text/x-python",
   "name": "python",
   "nbconvert_exporter": "python",
   "pygments_lexer": "ipython3",
   "version": "3.12.6"
  }
 },
 "nbformat": 4,
 "nbformat_minor": 5
}
